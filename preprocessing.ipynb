{
 "cells": [
  {
   "cell_type": "markdown",
   "id": "314acc6b",
   "metadata": {},
   "source": [
    "QUESTION FOUR\n",
    "-  Explain the following data pre-processing\n",
    "        - Data Cleaning: - Handling Missing data; Handling Noisy Data (Binning, regression, clustering)\n",
    "        - Transformation – Any three methods\n",
    "        - Data Reduction – Any three methods\n",
    "- By using your selected data, show a python implementation of each listed processes."
   ]
  },
  {
   "cell_type": "markdown",
   "id": "cb2dd130",
   "metadata": {},
   "source": [
    "This notebook is an implementation of data preprocessing techniques as defined in the question above, with short explanations and observations made as we run codes to achieve the required techniques.\n"
   ]
  },
  {
   "cell_type": "markdown",
   "id": "c5b410a0",
   "metadata": {},
   "source": [
    "## PRELIMS \n",
    "This invloves installing the required libraries and importing the data that will need to be processed"
   ]
  },
  {
   "cell_type": "code",
   "execution_count": 1,
   "id": "61210cb6",
   "metadata": {},
   "outputs": [],
   "source": [
    "import pandas as pd\n",
    "import numpy as np\n",
    "import re\n",
    "from sklearn.cluster import KMeans\n",
    "from sklearn.preprocessing import StandardScaler"
   ]
  },
  {
   "cell_type": "code",
   "execution_count": 2,
   "id": "ccbdc0e7",
   "metadata": {},
   "outputs": [],
   "source": [
    "sales = pd.read_csv(r'C:\\Users\\user\\Downloads\\sales_data_sample.csv', encoding='ISO-8859-1')"
   ]
  },
  {
   "cell_type": "code",
   "execution_count": 3,
   "id": "249713f5",
   "metadata": {},
   "outputs": [
    {
     "data": {
      "application/vnd.microsoft.datawrangler.viewer.v0+json": {
       "columns": [
        {
         "name": "index",
         "rawType": "int64",
         "type": "integer"
        },
        {
         "name": "ORDERNUMBER",
         "rawType": "int64",
         "type": "integer"
        },
        {
         "name": "QUANTITYORDERED",
         "rawType": "int64",
         "type": "integer"
        },
        {
         "name": "PRICEEACH",
         "rawType": "float64",
         "type": "float"
        },
        {
         "name": "ORDERLINENUMBER",
         "rawType": "int64",
         "type": "integer"
        },
        {
         "name": "SALES",
         "rawType": "float64",
         "type": "float"
        },
        {
         "name": "ORDERDATE",
         "rawType": "object",
         "type": "string"
        },
        {
         "name": "STATUS",
         "rawType": "object",
         "type": "string"
        },
        {
         "name": "QTR_ID",
         "rawType": "int64",
         "type": "integer"
        },
        {
         "name": "MONTH_ID",
         "rawType": "int64",
         "type": "integer"
        },
        {
         "name": "YEAR_ID",
         "rawType": "int64",
         "type": "integer"
        },
        {
         "name": "PRODUCTLINE",
         "rawType": "object",
         "type": "string"
        },
        {
         "name": "MSRP",
         "rawType": "int64",
         "type": "integer"
        },
        {
         "name": "PRODUCTCODE",
         "rawType": "object",
         "type": "string"
        },
        {
         "name": "CUSTOMERNAME",
         "rawType": "object",
         "type": "string"
        },
        {
         "name": "PHONE",
         "rawType": "object",
         "type": "string"
        },
        {
         "name": "ADDRESSLINE1",
         "rawType": "object",
         "type": "string"
        },
        {
         "name": "ADDRESSLINE2",
         "rawType": "object",
         "type": "unknown"
        },
        {
         "name": "CITY",
         "rawType": "object",
         "type": "string"
        },
        {
         "name": "STATE",
         "rawType": "object",
         "type": "unknown"
        },
        {
         "name": "POSTALCODE",
         "rawType": "object",
         "type": "unknown"
        },
        {
         "name": "COUNTRY",
         "rawType": "object",
         "type": "string"
        },
        {
         "name": "TERRITORY",
         "rawType": "object",
         "type": "unknown"
        },
        {
         "name": "CONTACTLASTNAME",
         "rawType": "object",
         "type": "string"
        },
        {
         "name": "CONTACTFIRSTNAME",
         "rawType": "object",
         "type": "string"
        },
        {
         "name": "DEALSIZE",
         "rawType": "object",
         "type": "string"
        }
       ],
       "conversionMethod": "pd.DataFrame",
       "ref": "ef1c6d21-7cf7-4306-b60f-a85cabb1893e",
       "rows": [
        [
         "0",
         "10107",
         "30",
         "95.7",
         "2",
         "2871.0",
         "2/24/2003 0:00",
         "Shipped",
         "1",
         "2",
         "2003",
         "Motorcycles",
         "95",
         "S10_1678",
         "Land of Toys Inc.",
         "2125557818",
         "897 Long Airport Avenue",
         null,
         "NYC",
         "NY",
         "10022",
         "USA",
         null,
         "Yu",
         "Kwai",
         "Small"
        ],
        [
         "1",
         "10121",
         "34",
         "81.35",
         "5",
         "2765.9",
         "5/7/2003 0:00",
         "Shipped",
         "2",
         "5",
         "2003",
         "Motorcycles",
         "95",
         "S10_1678",
         "Reims Collectables",
         "26.47.1555",
         "59 rue de l'Abbaye",
         null,
         "Reims",
         null,
         "51100",
         "France",
         "EMEA",
         "Henriot",
         "Paul",
         "Small"
        ],
        [
         "2",
         "10134",
         "41",
         "94.74",
         "2",
         "3884.34",
         "7/1/2003 0:00",
         "Shipped",
         "3",
         "7",
         "2003",
         "Motorcycles",
         "95",
         "S10_1678",
         "Lyon Souveniers",
         "+33 1 46 62 7555",
         "27 rue du Colonel Pierre Avia",
         null,
         "Paris",
         null,
         "75508",
         "France",
         "EMEA",
         "Da Cunha",
         "Daniel",
         "Medium"
        ],
        [
         "3",
         "10145",
         "45",
         "83.26",
         "6",
         "3746.7",
         "8/25/2003 0:00",
         "Shipped",
         "3",
         "8",
         "2003",
         "Motorcycles",
         "95",
         "S10_1678",
         "Toys4GrownUps.com",
         "6265557265",
         "78934 Hillside Dr.",
         null,
         "Pasadena",
         "CA",
         "90003",
         "USA",
         null,
         "Young",
         "Julie",
         "Medium"
        ],
        [
         "4",
         "10159",
         "49",
         "100.0",
         "14",
         "5205.27",
         "10/10/2003 0:00",
         "Shipped",
         "4",
         "10",
         "2003",
         "Motorcycles",
         "95",
         "S10_1678",
         "Corporate Gift Ideas Co.",
         "6505551386",
         "7734 Strong St.",
         null,
         "San Francisco",
         "CA",
         null,
         "USA",
         null,
         "Brown",
         "Julie",
         "Medium"
        ]
       ],
       "shape": {
        "columns": 25,
        "rows": 5
       }
      },
      "text/html": [
       "<div>\n",
       "<style scoped>\n",
       "    .dataframe tbody tr th:only-of-type {\n",
       "        vertical-align: middle;\n",
       "    }\n",
       "\n",
       "    .dataframe tbody tr th {\n",
       "        vertical-align: top;\n",
       "    }\n",
       "\n",
       "    .dataframe thead th {\n",
       "        text-align: right;\n",
       "    }\n",
       "</style>\n",
       "<table border=\"1\" class=\"dataframe\">\n",
       "  <thead>\n",
       "    <tr style=\"text-align: right;\">\n",
       "      <th></th>\n",
       "      <th>ORDERNUMBER</th>\n",
       "      <th>QUANTITYORDERED</th>\n",
       "      <th>PRICEEACH</th>\n",
       "      <th>ORDERLINENUMBER</th>\n",
       "      <th>SALES</th>\n",
       "      <th>ORDERDATE</th>\n",
       "      <th>STATUS</th>\n",
       "      <th>QTR_ID</th>\n",
       "      <th>MONTH_ID</th>\n",
       "      <th>YEAR_ID</th>\n",
       "      <th>...</th>\n",
       "      <th>ADDRESSLINE1</th>\n",
       "      <th>ADDRESSLINE2</th>\n",
       "      <th>CITY</th>\n",
       "      <th>STATE</th>\n",
       "      <th>POSTALCODE</th>\n",
       "      <th>COUNTRY</th>\n",
       "      <th>TERRITORY</th>\n",
       "      <th>CONTACTLASTNAME</th>\n",
       "      <th>CONTACTFIRSTNAME</th>\n",
       "      <th>DEALSIZE</th>\n",
       "    </tr>\n",
       "  </thead>\n",
       "  <tbody>\n",
       "    <tr>\n",
       "      <th>0</th>\n",
       "      <td>10107</td>\n",
       "      <td>30</td>\n",
       "      <td>95.70</td>\n",
       "      <td>2</td>\n",
       "      <td>2871.00</td>\n",
       "      <td>2/24/2003 0:00</td>\n",
       "      <td>Shipped</td>\n",
       "      <td>1</td>\n",
       "      <td>2</td>\n",
       "      <td>2003</td>\n",
       "      <td>...</td>\n",
       "      <td>897 Long Airport Avenue</td>\n",
       "      <td>NaN</td>\n",
       "      <td>NYC</td>\n",
       "      <td>NY</td>\n",
       "      <td>10022</td>\n",
       "      <td>USA</td>\n",
       "      <td>NaN</td>\n",
       "      <td>Yu</td>\n",
       "      <td>Kwai</td>\n",
       "      <td>Small</td>\n",
       "    </tr>\n",
       "    <tr>\n",
       "      <th>1</th>\n",
       "      <td>10121</td>\n",
       "      <td>34</td>\n",
       "      <td>81.35</td>\n",
       "      <td>5</td>\n",
       "      <td>2765.90</td>\n",
       "      <td>5/7/2003 0:00</td>\n",
       "      <td>Shipped</td>\n",
       "      <td>2</td>\n",
       "      <td>5</td>\n",
       "      <td>2003</td>\n",
       "      <td>...</td>\n",
       "      <td>59 rue de l'Abbaye</td>\n",
       "      <td>NaN</td>\n",
       "      <td>Reims</td>\n",
       "      <td>NaN</td>\n",
       "      <td>51100</td>\n",
       "      <td>France</td>\n",
       "      <td>EMEA</td>\n",
       "      <td>Henriot</td>\n",
       "      <td>Paul</td>\n",
       "      <td>Small</td>\n",
       "    </tr>\n",
       "    <tr>\n",
       "      <th>2</th>\n",
       "      <td>10134</td>\n",
       "      <td>41</td>\n",
       "      <td>94.74</td>\n",
       "      <td>2</td>\n",
       "      <td>3884.34</td>\n",
       "      <td>7/1/2003 0:00</td>\n",
       "      <td>Shipped</td>\n",
       "      <td>3</td>\n",
       "      <td>7</td>\n",
       "      <td>2003</td>\n",
       "      <td>...</td>\n",
       "      <td>27 rue du Colonel Pierre Avia</td>\n",
       "      <td>NaN</td>\n",
       "      <td>Paris</td>\n",
       "      <td>NaN</td>\n",
       "      <td>75508</td>\n",
       "      <td>France</td>\n",
       "      <td>EMEA</td>\n",
       "      <td>Da Cunha</td>\n",
       "      <td>Daniel</td>\n",
       "      <td>Medium</td>\n",
       "    </tr>\n",
       "    <tr>\n",
       "      <th>3</th>\n",
       "      <td>10145</td>\n",
       "      <td>45</td>\n",
       "      <td>83.26</td>\n",
       "      <td>6</td>\n",
       "      <td>3746.70</td>\n",
       "      <td>8/25/2003 0:00</td>\n",
       "      <td>Shipped</td>\n",
       "      <td>3</td>\n",
       "      <td>8</td>\n",
       "      <td>2003</td>\n",
       "      <td>...</td>\n",
       "      <td>78934 Hillside Dr.</td>\n",
       "      <td>NaN</td>\n",
       "      <td>Pasadena</td>\n",
       "      <td>CA</td>\n",
       "      <td>90003</td>\n",
       "      <td>USA</td>\n",
       "      <td>NaN</td>\n",
       "      <td>Young</td>\n",
       "      <td>Julie</td>\n",
       "      <td>Medium</td>\n",
       "    </tr>\n",
       "    <tr>\n",
       "      <th>4</th>\n",
       "      <td>10159</td>\n",
       "      <td>49</td>\n",
       "      <td>100.00</td>\n",
       "      <td>14</td>\n",
       "      <td>5205.27</td>\n",
       "      <td>10/10/2003 0:00</td>\n",
       "      <td>Shipped</td>\n",
       "      <td>4</td>\n",
       "      <td>10</td>\n",
       "      <td>2003</td>\n",
       "      <td>...</td>\n",
       "      <td>7734 Strong St.</td>\n",
       "      <td>NaN</td>\n",
       "      <td>San Francisco</td>\n",
       "      <td>CA</td>\n",
       "      <td>NaN</td>\n",
       "      <td>USA</td>\n",
       "      <td>NaN</td>\n",
       "      <td>Brown</td>\n",
       "      <td>Julie</td>\n",
       "      <td>Medium</td>\n",
       "    </tr>\n",
       "  </tbody>\n",
       "</table>\n",
       "<p>5 rows × 25 columns</p>\n",
       "</div>"
      ],
      "text/plain": [
       "   ORDERNUMBER  QUANTITYORDERED  PRICEEACH  ORDERLINENUMBER    SALES  \\\n",
       "0        10107               30      95.70                2  2871.00   \n",
       "1        10121               34      81.35                5  2765.90   \n",
       "2        10134               41      94.74                2  3884.34   \n",
       "3        10145               45      83.26                6  3746.70   \n",
       "4        10159               49     100.00               14  5205.27   \n",
       "\n",
       "         ORDERDATE   STATUS  QTR_ID  MONTH_ID  YEAR_ID  ...  \\\n",
       "0   2/24/2003 0:00  Shipped       1         2     2003  ...   \n",
       "1    5/7/2003 0:00  Shipped       2         5     2003  ...   \n",
       "2    7/1/2003 0:00  Shipped       3         7     2003  ...   \n",
       "3   8/25/2003 0:00  Shipped       3         8     2003  ...   \n",
       "4  10/10/2003 0:00  Shipped       4        10     2003  ...   \n",
       "\n",
       "                    ADDRESSLINE1  ADDRESSLINE2           CITY STATE  \\\n",
       "0        897 Long Airport Avenue           NaN            NYC    NY   \n",
       "1             59 rue de l'Abbaye           NaN          Reims   NaN   \n",
       "2  27 rue du Colonel Pierre Avia           NaN          Paris   NaN   \n",
       "3             78934 Hillside Dr.           NaN       Pasadena    CA   \n",
       "4                7734 Strong St.           NaN  San Francisco    CA   \n",
       "\n",
       "  POSTALCODE COUNTRY TERRITORY CONTACTLASTNAME CONTACTFIRSTNAME DEALSIZE  \n",
       "0      10022     USA       NaN              Yu             Kwai    Small  \n",
       "1      51100  France      EMEA         Henriot             Paul    Small  \n",
       "2      75508  France      EMEA        Da Cunha           Daniel   Medium  \n",
       "3      90003     USA       NaN           Young            Julie   Medium  \n",
       "4        NaN     USA       NaN           Brown            Julie   Medium  \n",
       "\n",
       "[5 rows x 25 columns]"
      ]
     },
     "execution_count": 3,
     "metadata": {},
     "output_type": "execute_result"
    }
   ],
   "source": [
    "sales.head()"
   ]
  },
  {
   "cell_type": "markdown",
   "id": "deda9d8f",
   "metadata": {},
   "source": [
    "## DATA CLEANING"
   ]
  },
  {
   "cell_type": "markdown",
   "id": "08eba149",
   "metadata": {},
   "source": [
    "- This section highlights the process of dealing with missing data and noisy data, with the aim of making it ready for more complex modelling and analysis.\n",
    "- Noisy data can be handles using techniques like binning, regression and clustering but it may also involve simple processes like removing spaces, commas brackets and mixed formmats of data.\n"
   ]
  },
  {
   "cell_type": "markdown",
   "id": "22738b43",
   "metadata": {},
   "source": [
    "Handling Missing Data"
   ]
  },
  {
   "cell_type": "code",
   "execution_count": 4,
   "id": "fb698375",
   "metadata": {},
   "outputs": [
    {
     "data": {
      "application/vnd.microsoft.datawrangler.viewer.v0+json": {
       "columns": [
        {
         "name": "index",
         "rawType": "int64",
         "type": "integer"
        },
        {
         "name": "ORDERNUMBER",
         "rawType": "int64",
         "type": "integer"
        },
        {
         "name": "QUANTITYORDERED",
         "rawType": "int64",
         "type": "integer"
        },
        {
         "name": "PRICEEACH",
         "rawType": "float64",
         "type": "float"
        },
        {
         "name": "ORDERLINENUMBER",
         "rawType": "int64",
         "type": "integer"
        },
        {
         "name": "SALES",
         "rawType": "float64",
         "type": "float"
        },
        {
         "name": "ORDERDATE",
         "rawType": "object",
         "type": "string"
        },
        {
         "name": "STATUS",
         "rawType": "object",
         "type": "string"
        },
        {
         "name": "QTR_ID",
         "rawType": "int64",
         "type": "integer"
        },
        {
         "name": "MONTH_ID",
         "rawType": "int64",
         "type": "integer"
        },
        {
         "name": "YEAR_ID",
         "rawType": "int64",
         "type": "integer"
        },
        {
         "name": "PRODUCTLINE",
         "rawType": "object",
         "type": "string"
        },
        {
         "name": "PRODUCTCODE",
         "rawType": "object",
         "type": "string"
        },
        {
         "name": "CUSTOMERNAME",
         "rawType": "object",
         "type": "string"
        },
        {
         "name": "PHONE",
         "rawType": "object",
         "type": "string"
        },
        {
         "name": "ADDRESSLINE1",
         "rawType": "object",
         "type": "string"
        },
        {
         "name": "ADDRESSLINE2",
         "rawType": "object",
         "type": "unknown"
        },
        {
         "name": "CITY",
         "rawType": "object",
         "type": "string"
        },
        {
         "name": "STATE",
         "rawType": "object",
         "type": "unknown"
        },
        {
         "name": "POSTALCODE",
         "rawType": "object",
         "type": "unknown"
        },
        {
         "name": "COUNTRY",
         "rawType": "object",
         "type": "string"
        },
        {
         "name": "TERRITORY",
         "rawType": "object",
         "type": "unknown"
        },
        {
         "name": "CONTACTLASTNAME",
         "rawType": "object",
         "type": "string"
        },
        {
         "name": "CONTACTFIRSTNAME",
         "rawType": "object",
         "type": "string"
        },
        {
         "name": "DEALSIZE",
         "rawType": "object",
         "type": "string"
        }
       ],
       "conversionMethod": "pd.DataFrame",
       "ref": "f8a2d34f-6731-400e-a4e7-dff93b91921e",
       "rows": [
        [
         "0",
         "10107",
         "30",
         "95.7",
         "2",
         "2871.0",
         "2/24/2003 0:00",
         "Shipped",
         "1",
         "2",
         "2003",
         "Motorcycles",
         "S10_1678",
         "Land of Toys Inc.",
         "2125557818",
         "897 Long Airport Avenue",
         null,
         "NYC",
         "NY",
         "10022",
         "USA",
         null,
         "Yu",
         "Kwai",
         "Small"
        ],
        [
         "1",
         "10121",
         "34",
         "81.35",
         "5",
         "2765.9",
         "5/7/2003 0:00",
         "Shipped",
         "2",
         "5",
         "2003",
         "Motorcycles",
         "S10_1678",
         "Reims Collectables",
         "26.47.1555",
         "59 rue de l'Abbaye",
         null,
         "Reims",
         null,
         "51100",
         "France",
         "EMEA",
         "Henriot",
         "Paul",
         "Small"
        ],
        [
         "2",
         "10134",
         "41",
         "94.74",
         "2",
         "3884.34",
         "7/1/2003 0:00",
         "Shipped",
         "3",
         "7",
         "2003",
         "Motorcycles",
         "S10_1678",
         "Lyon Souveniers",
         "+33 1 46 62 7555",
         "27 rue du Colonel Pierre Avia",
         null,
         "Paris",
         null,
         "75508",
         "France",
         "EMEA",
         "Da Cunha",
         "Daniel",
         "Medium"
        ],
        [
         "3",
         "10145",
         "45",
         "83.26",
         "6",
         "3746.7",
         "8/25/2003 0:00",
         "Shipped",
         "3",
         "8",
         "2003",
         "Motorcycles",
         "S10_1678",
         "Toys4GrownUps.com",
         "6265557265",
         "78934 Hillside Dr.",
         null,
         "Pasadena",
         "CA",
         "90003",
         "USA",
         null,
         "Young",
         "Julie",
         "Medium"
        ],
        [
         "4",
         "10159",
         "49",
         "100.0",
         "14",
         "5205.27",
         "10/10/2003 0:00",
         "Shipped",
         "4",
         "10",
         "2003",
         "Motorcycles",
         "S10_1678",
         "Corporate Gift Ideas Co.",
         "6505551386",
         "7734 Strong St.",
         null,
         "San Francisco",
         "CA",
         null,
         "USA",
         null,
         "Brown",
         "Julie",
         "Medium"
        ]
       ],
       "shape": {
        "columns": 24,
        "rows": 5
       }
      },
      "text/html": [
       "<div>\n",
       "<style scoped>\n",
       "    .dataframe tbody tr th:only-of-type {\n",
       "        vertical-align: middle;\n",
       "    }\n",
       "\n",
       "    .dataframe tbody tr th {\n",
       "        vertical-align: top;\n",
       "    }\n",
       "\n",
       "    .dataframe thead th {\n",
       "        text-align: right;\n",
       "    }\n",
       "</style>\n",
       "<table border=\"1\" class=\"dataframe\">\n",
       "  <thead>\n",
       "    <tr style=\"text-align: right;\">\n",
       "      <th></th>\n",
       "      <th>ORDERNUMBER</th>\n",
       "      <th>QUANTITYORDERED</th>\n",
       "      <th>PRICEEACH</th>\n",
       "      <th>ORDERLINENUMBER</th>\n",
       "      <th>SALES</th>\n",
       "      <th>ORDERDATE</th>\n",
       "      <th>STATUS</th>\n",
       "      <th>QTR_ID</th>\n",
       "      <th>MONTH_ID</th>\n",
       "      <th>YEAR_ID</th>\n",
       "      <th>...</th>\n",
       "      <th>ADDRESSLINE1</th>\n",
       "      <th>ADDRESSLINE2</th>\n",
       "      <th>CITY</th>\n",
       "      <th>STATE</th>\n",
       "      <th>POSTALCODE</th>\n",
       "      <th>COUNTRY</th>\n",
       "      <th>TERRITORY</th>\n",
       "      <th>CONTACTLASTNAME</th>\n",
       "      <th>CONTACTFIRSTNAME</th>\n",
       "      <th>DEALSIZE</th>\n",
       "    </tr>\n",
       "  </thead>\n",
       "  <tbody>\n",
       "    <tr>\n",
       "      <th>0</th>\n",
       "      <td>10107</td>\n",
       "      <td>30</td>\n",
       "      <td>95.70</td>\n",
       "      <td>2</td>\n",
       "      <td>2871.00</td>\n",
       "      <td>2/24/2003 0:00</td>\n",
       "      <td>Shipped</td>\n",
       "      <td>1</td>\n",
       "      <td>2</td>\n",
       "      <td>2003</td>\n",
       "      <td>...</td>\n",
       "      <td>897 Long Airport Avenue</td>\n",
       "      <td>NaN</td>\n",
       "      <td>NYC</td>\n",
       "      <td>NY</td>\n",
       "      <td>10022</td>\n",
       "      <td>USA</td>\n",
       "      <td>NaN</td>\n",
       "      <td>Yu</td>\n",
       "      <td>Kwai</td>\n",
       "      <td>Small</td>\n",
       "    </tr>\n",
       "    <tr>\n",
       "      <th>1</th>\n",
       "      <td>10121</td>\n",
       "      <td>34</td>\n",
       "      <td>81.35</td>\n",
       "      <td>5</td>\n",
       "      <td>2765.90</td>\n",
       "      <td>5/7/2003 0:00</td>\n",
       "      <td>Shipped</td>\n",
       "      <td>2</td>\n",
       "      <td>5</td>\n",
       "      <td>2003</td>\n",
       "      <td>...</td>\n",
       "      <td>59 rue de l'Abbaye</td>\n",
       "      <td>NaN</td>\n",
       "      <td>Reims</td>\n",
       "      <td>NaN</td>\n",
       "      <td>51100</td>\n",
       "      <td>France</td>\n",
       "      <td>EMEA</td>\n",
       "      <td>Henriot</td>\n",
       "      <td>Paul</td>\n",
       "      <td>Small</td>\n",
       "    </tr>\n",
       "    <tr>\n",
       "      <th>2</th>\n",
       "      <td>10134</td>\n",
       "      <td>41</td>\n",
       "      <td>94.74</td>\n",
       "      <td>2</td>\n",
       "      <td>3884.34</td>\n",
       "      <td>7/1/2003 0:00</td>\n",
       "      <td>Shipped</td>\n",
       "      <td>3</td>\n",
       "      <td>7</td>\n",
       "      <td>2003</td>\n",
       "      <td>...</td>\n",
       "      <td>27 rue du Colonel Pierre Avia</td>\n",
       "      <td>NaN</td>\n",
       "      <td>Paris</td>\n",
       "      <td>NaN</td>\n",
       "      <td>75508</td>\n",
       "      <td>France</td>\n",
       "      <td>EMEA</td>\n",
       "      <td>Da Cunha</td>\n",
       "      <td>Daniel</td>\n",
       "      <td>Medium</td>\n",
       "    </tr>\n",
       "    <tr>\n",
       "      <th>3</th>\n",
       "      <td>10145</td>\n",
       "      <td>45</td>\n",
       "      <td>83.26</td>\n",
       "      <td>6</td>\n",
       "      <td>3746.70</td>\n",
       "      <td>8/25/2003 0:00</td>\n",
       "      <td>Shipped</td>\n",
       "      <td>3</td>\n",
       "      <td>8</td>\n",
       "      <td>2003</td>\n",
       "      <td>...</td>\n",
       "      <td>78934 Hillside Dr.</td>\n",
       "      <td>NaN</td>\n",
       "      <td>Pasadena</td>\n",
       "      <td>CA</td>\n",
       "      <td>90003</td>\n",
       "      <td>USA</td>\n",
       "      <td>NaN</td>\n",
       "      <td>Young</td>\n",
       "      <td>Julie</td>\n",
       "      <td>Medium</td>\n",
       "    </tr>\n",
       "    <tr>\n",
       "      <th>4</th>\n",
       "      <td>10159</td>\n",
       "      <td>49</td>\n",
       "      <td>100.00</td>\n",
       "      <td>14</td>\n",
       "      <td>5205.27</td>\n",
       "      <td>10/10/2003 0:00</td>\n",
       "      <td>Shipped</td>\n",
       "      <td>4</td>\n",
       "      <td>10</td>\n",
       "      <td>2003</td>\n",
       "      <td>...</td>\n",
       "      <td>7734 Strong St.</td>\n",
       "      <td>NaN</td>\n",
       "      <td>San Francisco</td>\n",
       "      <td>CA</td>\n",
       "      <td>NaN</td>\n",
       "      <td>USA</td>\n",
       "      <td>NaN</td>\n",
       "      <td>Brown</td>\n",
       "      <td>Julie</td>\n",
       "      <td>Medium</td>\n",
       "    </tr>\n",
       "  </tbody>\n",
       "</table>\n",
       "<p>5 rows × 24 columns</p>\n",
       "</div>"
      ],
      "text/plain": [
       "   ORDERNUMBER  QUANTITYORDERED  PRICEEACH  ORDERLINENUMBER    SALES  \\\n",
       "0        10107               30      95.70                2  2871.00   \n",
       "1        10121               34      81.35                5  2765.90   \n",
       "2        10134               41      94.74                2  3884.34   \n",
       "3        10145               45      83.26                6  3746.70   \n",
       "4        10159               49     100.00               14  5205.27   \n",
       "\n",
       "         ORDERDATE   STATUS  QTR_ID  MONTH_ID  YEAR_ID  ...  \\\n",
       "0   2/24/2003 0:00  Shipped       1         2     2003  ...   \n",
       "1    5/7/2003 0:00  Shipped       2         5     2003  ...   \n",
       "2    7/1/2003 0:00  Shipped       3         7     2003  ...   \n",
       "3   8/25/2003 0:00  Shipped       3         8     2003  ...   \n",
       "4  10/10/2003 0:00  Shipped       4        10     2003  ...   \n",
       "\n",
       "                    ADDRESSLINE1 ADDRESSLINE2           CITY STATE POSTALCODE  \\\n",
       "0        897 Long Airport Avenue          NaN            NYC    NY      10022   \n",
       "1             59 rue de l'Abbaye          NaN          Reims   NaN      51100   \n",
       "2  27 rue du Colonel Pierre Avia          NaN          Paris   NaN      75508   \n",
       "3             78934 Hillside Dr.          NaN       Pasadena    CA      90003   \n",
       "4                7734 Strong St.          NaN  San Francisco    CA        NaN   \n",
       "\n",
       "  COUNTRY TERRITORY CONTACTLASTNAME CONTACTFIRSTNAME DEALSIZE  \n",
       "0     USA       NaN              Yu             Kwai    Small  \n",
       "1  France      EMEA         Henriot             Paul    Small  \n",
       "2  France      EMEA        Da Cunha           Daniel   Medium  \n",
       "3     USA       NaN           Young            Julie   Medium  \n",
       "4     USA       NaN           Brown            Julie   Medium  \n",
       "\n",
       "[5 rows x 24 columns]"
      ]
     },
     "execution_count": 4,
     "metadata": {},
     "output_type": "execute_result"
    }
   ],
   "source": [
    "# STEP 1: WE GET RID OF MSRP COLUMN SINCE IT DOESN'T ADD VALUE TO OUR ANALYSIS\n",
    "sales= sales.drop(columns=['MSRP'])\n",
    "sales.head()"
   ]
  },
  {
   "cell_type": "code",
   "execution_count": 5,
   "id": "46309d10",
   "metadata": {},
   "outputs": [
    {
     "data": {
      "application/vnd.microsoft.datawrangler.viewer.v0+json": {
       "columns": [
        {
         "name": "index",
         "rawType": "int64",
         "type": "integer"
        },
        {
         "name": "ORDERNUMBER",
         "rawType": "int64",
         "type": "integer"
        },
        {
         "name": "QUANTITYORDERED",
         "rawType": "int64",
         "type": "integer"
        },
        {
         "name": "PRICEEACH",
         "rawType": "float64",
         "type": "float"
        },
        {
         "name": "ORDERLINENUMBER",
         "rawType": "int64",
         "type": "integer"
        },
        {
         "name": "SALES",
         "rawType": "float64",
         "type": "float"
        },
        {
         "name": "ORDERDATE",
         "rawType": "object",
         "type": "string"
        },
        {
         "name": "STATUS",
         "rawType": "object",
         "type": "string"
        },
        {
         "name": "QTR_ID",
         "rawType": "int64",
         "type": "integer"
        },
        {
         "name": "MONTH_ID",
         "rawType": "int64",
         "type": "integer"
        },
        {
         "name": "YEAR_ID",
         "rawType": "int64",
         "type": "integer"
        },
        {
         "name": "PRODUCTLINE",
         "rawType": "object",
         "type": "string"
        },
        {
         "name": "PRODUCTCODE",
         "rawType": "object",
         "type": "string"
        },
        {
         "name": "CUSTOMERNAME",
         "rawType": "object",
         "type": "string"
        },
        {
         "name": "PHONE",
         "rawType": "object",
         "type": "string"
        },
        {
         "name": "ADDRESSLINE1",
         "rawType": "object",
         "type": "string"
        },
        {
         "name": "CITY",
         "rawType": "object",
         "type": "string"
        },
        {
         "name": "STATE",
         "rawType": "object",
         "type": "unknown"
        },
        {
         "name": "POSTALCODE",
         "rawType": "object",
         "type": "unknown"
        },
        {
         "name": "COUNTRY",
         "rawType": "object",
         "type": "string"
        },
        {
         "name": "TERRITORY",
         "rawType": "object",
         "type": "unknown"
        },
        {
         "name": "CONTACTLASTNAME",
         "rawType": "object",
         "type": "string"
        },
        {
         "name": "CONTACTFIRSTNAME",
         "rawType": "object",
         "type": "string"
        },
        {
         "name": "DEALSIZE",
         "rawType": "object",
         "type": "string"
        }
       ],
       "conversionMethod": "pd.DataFrame",
       "ref": "8a7dde19-4fed-49f6-a5f6-b667b43eaba8",
       "rows": [
        [
         "0",
         "10107",
         "30",
         "95.7",
         "2",
         "2871.0",
         "2/24/2003 0:00",
         "Shipped",
         "1",
         "2",
         "2003",
         "Motorcycles",
         "S10_1678",
         "Land of Toys Inc.",
         "2125557818",
         "897 Long Airport Avenue",
         "NYC",
         "NY",
         "10022",
         "USA",
         null,
         "Yu",
         "Kwai",
         "Small"
        ],
        [
         "1",
         "10121",
         "34",
         "81.35",
         "5",
         "2765.9",
         "5/7/2003 0:00",
         "Shipped",
         "2",
         "5",
         "2003",
         "Motorcycles",
         "S10_1678",
         "Reims Collectables",
         "26.47.1555",
         "59 rue de l'Abbaye",
         "Reims",
         null,
         "51100",
         "France",
         "EMEA",
         "Henriot",
         "Paul",
         "Small"
        ],
        [
         "2",
         "10134",
         "41",
         "94.74",
         "2",
         "3884.34",
         "7/1/2003 0:00",
         "Shipped",
         "3",
         "7",
         "2003",
         "Motorcycles",
         "S10_1678",
         "Lyon Souveniers",
         "+33 1 46 62 7555",
         "27 rue du Colonel Pierre Avia",
         "Paris",
         null,
         "75508",
         "France",
         "EMEA",
         "Da Cunha",
         "Daniel",
         "Medium"
        ],
        [
         "3",
         "10145",
         "45",
         "83.26",
         "6",
         "3746.7",
         "8/25/2003 0:00",
         "Shipped",
         "3",
         "8",
         "2003",
         "Motorcycles",
         "S10_1678",
         "Toys4GrownUps.com",
         "6265557265",
         "78934 Hillside Dr.",
         "Pasadena",
         "CA",
         "90003",
         "USA",
         null,
         "Young",
         "Julie",
         "Medium"
        ],
        [
         "4",
         "10159",
         "49",
         "100.0",
         "14",
         "5205.27",
         "10/10/2003 0:00",
         "Shipped",
         "4",
         "10",
         "2003",
         "Motorcycles",
         "S10_1678",
         "Corporate Gift Ideas Co.",
         "6505551386",
         "7734 Strong St.",
         "San Francisco",
         "CA",
         null,
         "USA",
         null,
         "Brown",
         "Julie",
         "Medium"
        ]
       ],
       "shape": {
        "columns": 23,
        "rows": 5
       }
      },
      "text/html": [
       "<div>\n",
       "<style scoped>\n",
       "    .dataframe tbody tr th:only-of-type {\n",
       "        vertical-align: middle;\n",
       "    }\n",
       "\n",
       "    .dataframe tbody tr th {\n",
       "        vertical-align: top;\n",
       "    }\n",
       "\n",
       "    .dataframe thead th {\n",
       "        text-align: right;\n",
       "    }\n",
       "</style>\n",
       "<table border=\"1\" class=\"dataframe\">\n",
       "  <thead>\n",
       "    <tr style=\"text-align: right;\">\n",
       "      <th></th>\n",
       "      <th>ORDERNUMBER</th>\n",
       "      <th>QUANTITYORDERED</th>\n",
       "      <th>PRICEEACH</th>\n",
       "      <th>ORDERLINENUMBER</th>\n",
       "      <th>SALES</th>\n",
       "      <th>ORDERDATE</th>\n",
       "      <th>STATUS</th>\n",
       "      <th>QTR_ID</th>\n",
       "      <th>MONTH_ID</th>\n",
       "      <th>YEAR_ID</th>\n",
       "      <th>...</th>\n",
       "      <th>PHONE</th>\n",
       "      <th>ADDRESSLINE1</th>\n",
       "      <th>CITY</th>\n",
       "      <th>STATE</th>\n",
       "      <th>POSTALCODE</th>\n",
       "      <th>COUNTRY</th>\n",
       "      <th>TERRITORY</th>\n",
       "      <th>CONTACTLASTNAME</th>\n",
       "      <th>CONTACTFIRSTNAME</th>\n",
       "      <th>DEALSIZE</th>\n",
       "    </tr>\n",
       "  </thead>\n",
       "  <tbody>\n",
       "    <tr>\n",
       "      <th>0</th>\n",
       "      <td>10107</td>\n",
       "      <td>30</td>\n",
       "      <td>95.70</td>\n",
       "      <td>2</td>\n",
       "      <td>2871.00</td>\n",
       "      <td>2/24/2003 0:00</td>\n",
       "      <td>Shipped</td>\n",
       "      <td>1</td>\n",
       "      <td>2</td>\n",
       "      <td>2003</td>\n",
       "      <td>...</td>\n",
       "      <td>2125557818</td>\n",
       "      <td>897 Long Airport Avenue</td>\n",
       "      <td>NYC</td>\n",
       "      <td>NY</td>\n",
       "      <td>10022</td>\n",
       "      <td>USA</td>\n",
       "      <td>NaN</td>\n",
       "      <td>Yu</td>\n",
       "      <td>Kwai</td>\n",
       "      <td>Small</td>\n",
       "    </tr>\n",
       "    <tr>\n",
       "      <th>1</th>\n",
       "      <td>10121</td>\n",
       "      <td>34</td>\n",
       "      <td>81.35</td>\n",
       "      <td>5</td>\n",
       "      <td>2765.90</td>\n",
       "      <td>5/7/2003 0:00</td>\n",
       "      <td>Shipped</td>\n",
       "      <td>2</td>\n",
       "      <td>5</td>\n",
       "      <td>2003</td>\n",
       "      <td>...</td>\n",
       "      <td>26.47.1555</td>\n",
       "      <td>59 rue de l'Abbaye</td>\n",
       "      <td>Reims</td>\n",
       "      <td>NaN</td>\n",
       "      <td>51100</td>\n",
       "      <td>France</td>\n",
       "      <td>EMEA</td>\n",
       "      <td>Henriot</td>\n",
       "      <td>Paul</td>\n",
       "      <td>Small</td>\n",
       "    </tr>\n",
       "    <tr>\n",
       "      <th>2</th>\n",
       "      <td>10134</td>\n",
       "      <td>41</td>\n",
       "      <td>94.74</td>\n",
       "      <td>2</td>\n",
       "      <td>3884.34</td>\n",
       "      <td>7/1/2003 0:00</td>\n",
       "      <td>Shipped</td>\n",
       "      <td>3</td>\n",
       "      <td>7</td>\n",
       "      <td>2003</td>\n",
       "      <td>...</td>\n",
       "      <td>+33 1 46 62 7555</td>\n",
       "      <td>27 rue du Colonel Pierre Avia</td>\n",
       "      <td>Paris</td>\n",
       "      <td>NaN</td>\n",
       "      <td>75508</td>\n",
       "      <td>France</td>\n",
       "      <td>EMEA</td>\n",
       "      <td>Da Cunha</td>\n",
       "      <td>Daniel</td>\n",
       "      <td>Medium</td>\n",
       "    </tr>\n",
       "    <tr>\n",
       "      <th>3</th>\n",
       "      <td>10145</td>\n",
       "      <td>45</td>\n",
       "      <td>83.26</td>\n",
       "      <td>6</td>\n",
       "      <td>3746.70</td>\n",
       "      <td>8/25/2003 0:00</td>\n",
       "      <td>Shipped</td>\n",
       "      <td>3</td>\n",
       "      <td>8</td>\n",
       "      <td>2003</td>\n",
       "      <td>...</td>\n",
       "      <td>6265557265</td>\n",
       "      <td>78934 Hillside Dr.</td>\n",
       "      <td>Pasadena</td>\n",
       "      <td>CA</td>\n",
       "      <td>90003</td>\n",
       "      <td>USA</td>\n",
       "      <td>NaN</td>\n",
       "      <td>Young</td>\n",
       "      <td>Julie</td>\n",
       "      <td>Medium</td>\n",
       "    </tr>\n",
       "    <tr>\n",
       "      <th>4</th>\n",
       "      <td>10159</td>\n",
       "      <td>49</td>\n",
       "      <td>100.00</td>\n",
       "      <td>14</td>\n",
       "      <td>5205.27</td>\n",
       "      <td>10/10/2003 0:00</td>\n",
       "      <td>Shipped</td>\n",
       "      <td>4</td>\n",
       "      <td>10</td>\n",
       "      <td>2003</td>\n",
       "      <td>...</td>\n",
       "      <td>6505551386</td>\n",
       "      <td>7734 Strong St.</td>\n",
       "      <td>San Francisco</td>\n",
       "      <td>CA</td>\n",
       "      <td>NaN</td>\n",
       "      <td>USA</td>\n",
       "      <td>NaN</td>\n",
       "      <td>Brown</td>\n",
       "      <td>Julie</td>\n",
       "      <td>Medium</td>\n",
       "    </tr>\n",
       "  </tbody>\n",
       "</table>\n",
       "<p>5 rows × 23 columns</p>\n",
       "</div>"
      ],
      "text/plain": [
       "   ORDERNUMBER  QUANTITYORDERED  PRICEEACH  ORDERLINENUMBER    SALES  \\\n",
       "0        10107               30      95.70                2  2871.00   \n",
       "1        10121               34      81.35                5  2765.90   \n",
       "2        10134               41      94.74                2  3884.34   \n",
       "3        10145               45      83.26                6  3746.70   \n",
       "4        10159               49     100.00               14  5205.27   \n",
       "\n",
       "         ORDERDATE   STATUS  QTR_ID  MONTH_ID  YEAR_ID  ...             PHONE  \\\n",
       "0   2/24/2003 0:00  Shipped       1         2     2003  ...        2125557818   \n",
       "1    5/7/2003 0:00  Shipped       2         5     2003  ...        26.47.1555   \n",
       "2    7/1/2003 0:00  Shipped       3         7     2003  ...  +33 1 46 62 7555   \n",
       "3   8/25/2003 0:00  Shipped       3         8     2003  ...        6265557265   \n",
       "4  10/10/2003 0:00  Shipped       4        10     2003  ...        6505551386   \n",
       "\n",
       "                    ADDRESSLINE1           CITY STATE POSTALCODE COUNTRY  \\\n",
       "0        897 Long Airport Avenue            NYC    NY      10022     USA   \n",
       "1             59 rue de l'Abbaye          Reims   NaN      51100  France   \n",
       "2  27 rue du Colonel Pierre Avia          Paris   NaN      75508  France   \n",
       "3             78934 Hillside Dr.       Pasadena    CA      90003     USA   \n",
       "4                7734 Strong St.  San Francisco    CA        NaN     USA   \n",
       "\n",
       "  TERRITORY CONTACTLASTNAME CONTACTFIRSTNAME DEALSIZE  \n",
       "0       NaN              Yu             Kwai    Small  \n",
       "1      EMEA         Henriot             Paul    Small  \n",
       "2      EMEA        Da Cunha           Daniel   Medium  \n",
       "3       NaN           Young            Julie   Medium  \n",
       "4       NaN           Brown            Julie   Medium  \n",
       "\n",
       "[5 rows x 23 columns]"
      ]
     },
     "execution_count": 5,
     "metadata": {},
     "output_type": "execute_result"
    }
   ],
   "source": [
    "# STEP 2: WE GET RID OF ADDRESSLINE2 SINCE MOST OF ITS CELLS HAVE NULL VALUES AND ADDRESSLINE1 ALREADY CAPTURES THE ADDRESS INFORMATION THAT'S NEEDED\n",
    "sales = sales.drop(columns=['ADDRESSLINE2'])\n",
    "sales.head()"
   ]
  },
  {
   "cell_type": "markdown",
   "id": "272ec292",
   "metadata": {},
   "source": [
    "Handling Noisy Data\n",
    "\n",
    "- There were some issues that were observed in the dataset that require recitification. They include:\n",
    "1. The PRICEEACH column has different number formats (inconsistent decimal places)\n",
    "\n",
    "2. The SALES column also has inconsistent decimal places\n",
    "\n",
    "3. The ORDERDATE column seems to have a time 00:00 which is not needed at all\n",
    "\n",
    "4. The PHONE column has some values with decimal points, brackets, hyphens, or a combination of these formats. It should just have one format which is the number with a plus(+) sign in front of it and nothing else.\n",
    "\n",
    "5. There are some STATES with blank fields for the column CITY that is not in the USA.\n",
    "\n",
    "6. There are fields within the POSTALCODE column that have missing values. Replacing with 0 would suffice.\n",
    " Additionally, there are some fields that are not right aligned(it could be as a result of space) and its especially for the fields whose codes have a letter or other symbols.\n",
    "\n",
    "7. Lastly, in all columns, we ought to get rid of the whitespace characters, if any."
   ]
  },
  {
   "cell_type": "code",
   "execution_count": 6,
   "id": "bfeb5bec",
   "metadata": {},
   "outputs": [
    {
     "name": "stdout",
     "output_type": "stream",
     "text": [
      "Handling inconsistent decimal places in 'PRICEEACH':\n",
      "   PRICEEACH\n",
      "0      95.70\n",
      "1      81.35\n",
      "2      94.74\n",
      "3      83.26\n",
      "4     100.00\n",
      "------------------------------\n"
     ]
    }
   ],
   "source": [
    "# 1. Inconsistent decimal places in 'PRICEEACH'\n",
    "print(\"Handling inconsistent decimal places in 'PRICEEACH':\")\n",
    "sales['PRICEEACH'] = sales['PRICEEACH'].astype(float).round(2)\n",
    "print(sales[['PRICEEACH']].head())\n",
    "print(\"-\" * 30)"
   ]
  },
  {
   "cell_type": "code",
   "execution_count": 7,
   "id": "a3489eb5",
   "metadata": {},
   "outputs": [
    {
     "name": "stdout",
     "output_type": "stream",
     "text": [
      "Handling inconsistent decimal places in 'SALES':\n",
      "     SALES\n",
      "0  2871.00\n",
      "1  2765.90\n",
      "2  3884.34\n",
      "3  3746.70\n",
      "4  5205.27\n",
      "------------------------------\n"
     ]
    }
   ],
   "source": [
    "# 2. Inconsistent decimal places in 'SALES'\n",
    "print(\"Handling inconsistent decimal places in 'SALES':\")\n",
    "sales['SALES'] = sales['SALES'].astype(float).round(2)\n",
    "print(sales[['SALES']].head())\n",
    "print(\"-\" * 30)"
   ]
  },
  {
   "cell_type": "code",
   "execution_count": 8,
   "id": "78eede25",
   "metadata": {},
   "outputs": [
    {
     "name": "stdout",
     "output_type": "stream",
     "text": [
      "Removing time from 'ORDERDATE':\n",
      "    ORDERDATE\n",
      "0  2003-02-24\n",
      "1  2003-05-07\n",
      "2  2003-07-01\n",
      "3  2003-08-25\n",
      "4  2003-10-10\n",
      "------------------------------\n"
     ]
    }
   ],
   "source": [
    "# 3. Remove time from 'ORDERDATE'\n",
    "print(\"Removing time from 'ORDERDATE':\")\n",
    "sales['ORDERDATE'] = pd.to_datetime(sales['ORDERDATE']).dt.date\n",
    "print(sales[['ORDERDATE']].head())\n",
    "print(\"-\" * 30)"
   ]
  },
  {
   "cell_type": "code",
   "execution_count": 9,
   "id": "4d4991e7",
   "metadata": {},
   "outputs": [
    {
     "name": "stdout",
     "output_type": "stream",
     "text": [
      "Standardizing 'PHONE' format:\n",
      "          PHONE\n",
      "0   +2125557818\n",
      "1     +26471555\n",
      "2  +33146627555\n",
      "3   +6265557265\n",
      "4   +6505551386\n",
      "------------------------------\n"
     ]
    }
   ],
   "source": [
    "# 4. Standardize 'PHONE' format\n",
    "print(\"Standardizing 'PHONE' format:\")\n",
    "def standardize_phone(phone):\n",
    "    if pd.isna(phone):\n",
    "        return None\n",
    "    # Remove all non-numeric characters except the leading '+'\n",
    "    cleaned_phone = re.sub(r'(?<!^)\\D+', '', str(phone))\n",
    "    if str(phone).startswith('+'):\n",
    "        return cleaned_phone\n",
    "    else:\n",
    "        return '+' + cleaned_phone\n",
    "\n",
    "sales['PHONE'] = sales['PHONE'].apply(standardize_phone)\n",
    "print(sales[['PHONE']].head())\n",
    "print(\"-\" * 30)\n"
   ]
  },
  {
   "cell_type": "code",
   "execution_count": 10,
   "id": "097a063c",
   "metadata": {},
   "outputs": [
    {
     "name": "stdout",
     "output_type": "stream",
     "text": [
      "Handling blank 'STATE' for non-USA entries:\n",
      "    STATE           CITY COUNTRY\n",
      "0      NY            NYC     USA\n",
      "1   Reims          Reims  France\n",
      "2   Paris          Paris  France\n",
      "3      CA       Pasadena     USA\n",
      "4      CA  San Francisco     USA\n",
      "5      CA     Burlingame     USA\n",
      "6   Lille          Lille  France\n",
      "7  Bergen         Bergen  Norway\n",
      "8      CA  San Francisco     USA\n",
      "9   Paris          Paris  France\n",
      "------------------------------\n"
     ]
    }
   ],
   "source": [
    "# 5. Handle blank 'STATE' for non-USA entries (corrected)\n",
    "print(\"Handling blank 'STATE' for non-USA entries:\")\n",
    "sales['STATE'] = np.where((sales['COUNTRY'] != 'USA') & (sales['STATE'].isnull()), sales['CITY'], sales['STATE'])\n",
    "print(sales[['STATE', 'CITY', 'COUNTRY']].head(10))\n",
    "print(\"-\" * 30)"
   ]
  },
  {
   "cell_type": "code",
   "execution_count": 11,
   "id": "e03020fb",
   "metadata": {},
   "outputs": [
    {
     "name": "stdout",
     "output_type": "stream",
     "text": [
      "Handling 'POSTALCODE' missing values and alignment:\n",
      "   POSTALCODE\n",
      "0       10022\n",
      "1       51100\n",
      "2       75508\n",
      "3       90003\n",
      "4           0\n",
      "5       94217\n",
      "6       59000\n",
      "7      N 5804\n",
      "8           0\n",
      "9       75016\n",
      "10       3004\n",
      "11      10022\n",
      "12      94019\n",
      "13      97562\n",
      "14      44000\n",
      "------------------------------\n"
     ]
    }
   ],
   "source": [
    "# 6. Handle 'POSTALCODE' missing values and alignment\n",
    "print(\"Handling 'POSTALCODE' missing values and alignment:\")\n",
    "sales['POSTALCODE'] = sales['POSTALCODE'].fillna('0')\n",
    "\n",
    "def right_align_postalcode(postalcode):\n",
    "    return str(postalcode).strip()\n",
    "\n",
    "sales['POSTALCODE'] = sales['POSTALCODE'].apply(right_align_postalcode)\n",
    "print(sales[['POSTALCODE']].head(15))\n",
    "print(\"-\" * 30)"
   ]
  },
  {
   "cell_type": "code",
   "execution_count": 12,
   "id": "b4ea564e",
   "metadata": {},
   "outputs": [
    {
     "name": "stdout",
     "output_type": "stream",
     "text": [
      "Removing whitespace from all columns:\n",
      "DataFrame after removing whitespace:\n",
      "   ORDERNUMBER  QUANTITYORDERED  PRICEEACH  ORDERLINENUMBER    SALES  \\\n",
      "0        10107               30      95.70                2  2871.00   \n",
      "1        10121               34      81.35                5  2765.90   \n",
      "2        10134               41      94.74                2  3884.34   \n",
      "3        10145               45      83.26                6  3746.70   \n",
      "4        10159               49     100.00               14  5205.27   \n",
      "\n",
      "    ORDERDATE   STATUS  QTR_ID  MONTH_ID  YEAR_ID  ...         PHONE  \\\n",
      "0  2003-02-24  Shipped       1         2     2003  ...   +2125557818   \n",
      "1  2003-05-07  Shipped       2         5     2003  ...     +26471555   \n",
      "2  2003-07-01  Shipped       3         7     2003  ...  +33146627555   \n",
      "3  2003-08-25  Shipped       3         8     2003  ...   +6265557265   \n",
      "4  2003-10-10  Shipped       4        10     2003  ...   +6505551386   \n",
      "\n",
      "                    ADDRESSLINE1           CITY  STATE POSTALCODE COUNTRY  \\\n",
      "0        897 Long Airport Avenue            NYC     NY      10022     USA   \n",
      "1             59 rue de l'Abbaye          Reims  Reims      51100  France   \n",
      "2  27 rue du Colonel Pierre Avia          Paris  Paris      75508  France   \n",
      "3             78934 Hillside Dr.       Pasadena     CA      90003     USA   \n",
      "4                7734 Strong St.  San Francisco     CA          0     USA   \n",
      "\n",
      "  TERRITORY CONTACTLASTNAME CONTACTFIRSTNAME DEALSIZE  \n",
      "0       nan              Yu             Kwai    Small  \n",
      "1      EMEA         Henriot             Paul    Small  \n",
      "2      EMEA        Da Cunha           Daniel   Medium  \n",
      "3       nan           Young            Julie   Medium  \n",
      "4       nan           Brown            Julie   Medium  \n",
      "\n",
      "[5 rows x 23 columns]\n",
      "------------------------------\n"
     ]
    }
   ],
   "source": [
    "# 7. Remove whitespace from all columns\n",
    "print(\"Removing whitespace from all columns:\")\n",
    "for col in sales.columns:\n",
    "    if sales[col].dtype == 'object':\n",
    "        sales[col] = sales[col].astype(str).str.strip()\n",
    "print(\"DataFrame after removing whitespace:\")\n",
    "print(sales.head())\n",
    "print(\"-\" * 30)"
   ]
  },
  {
   "cell_type": "markdown",
   "id": "a1ae2a6d",
   "metadata": {},
   "source": [
    "### Other noise reduction techniques\n",
    "1. Binning- Binning can smooth out minor variations and potentially reduce the impact of small errors. This method is used to minimize the effects of small observation errors. The original data values are divided into small intervals known as bins and then they are replaced by a general value calculated for that bin. This has a smoothing effect on the input data."
   ]
  },
  {
   "cell_type": "code",
   "execution_count": 13,
   "id": "2fc59ee0",
   "metadata": {},
   "outputs": [
    {
     "name": "stdout",
     "output_type": "stream",
     "text": [
      "\n",
      "Noise Reduction using Binning (on 'PRICEEACH'):\n",
      "   PRICEEACH PRICEEACH_Binned\n",
      "0      95.70             High\n",
      "1      81.35      Medium-High\n",
      "2      94.74             High\n",
      "3      83.26             High\n",
      "4     100.00             High\n",
      "------------------------------\n"
     ]
    }
   ],
   "source": [
    "# Noise Reduction using Binning (Applicable to numerical columns like 'PRICEEACH' or 'SALES')\n",
    "print(\"\\nNoise Reduction using Binning (on 'PRICEEACH'):\")\n",
    "bins = np.linspace(sales['PRICEEACH'].min(), sales['PRICEEACH'].max(), 5) # Create 4 bins\n",
    "labels = ['Low', 'Medium-Low', 'Medium-High', 'High']\n",
    "sales['PRICEEACH_Binned'] = pd.cut(sales['PRICEEACH'], bins=bins, labels=labels, include_lowest=True)\n",
    "print(sales[['PRICEEACH', 'PRICEEACH_Binned']].head())\n",
    "print(\"-\" * 30)"
   ]
  },
  {
   "cell_type": "markdown",
   "id": "8bffcfab",
   "metadata": {},
   "source": [
    "2. Regression: Can be used to identify outliers in numerical relationships.\n",
    "We can try to model the relationship between 'QUANTITYORDERED' and 'SALES' and identify points that deviate significantly."
   ]
  },
  {
   "cell_type": "code",
   "execution_count": 14,
   "id": "4cb24110",
   "metadata": {},
   "outputs": [
    {
     "name": "stdout",
     "output_type": "stream",
     "text": [
      "\n",
      "Noise Reduction using Regression (Outlier Detection in 'SALES' vs 'QUANTITYORDERED'):\n",
      "Potential outliers detected by regression:\n",
      "      QUANTITYORDERED     SALES\n",
      "20                 41   7737.93\n",
      "27                 29   7209.11\n",
      "28                 38   7329.06\n",
      "29                 37   7374.10\n",
      "30                 45  10993.50\n",
      "...               ...       ...\n",
      "2375               49   1796.34\n",
      "2376               56   1979.60\n",
      "2430               45   8977.05\n",
      "2505               46  10066.60\n",
      "2634               46   9558.80\n",
      "\n",
      "[121 rows x 2 columns]\n",
      "------------------------------\n"
     ]
    }
   ],
   "source": [
    "# Noise Reduction using Regression\n",
    "print(\"\\nNoise Reduction using Regression (Outlier Detection in 'SALES' vs 'QUANTITYORDERED'):\")\n",
    "from sklearn.linear_model import LinearRegression\n",
    "\n",
    "X_reg = sales[['QUANTITYORDERED']]\n",
    "y_reg = sales['SALES']\n",
    "model = LinearRegression()\n",
    "model.fit(X_reg, y_reg)\n",
    "predictions = model.predict(X_reg)\n",
    "residuals = np.abs(y_reg - predictions)\n",
    "threshold = residuals.mean() + 2 * residuals.std() # Example threshold\n",
    "outliers_reg = sales[residuals > threshold]\n",
    "print(\"Potential outliers detected by regression:\")\n",
    "print(outliers_reg[['QUANTITYORDERED', 'SALES']])\n",
    "sales.drop(columns=['PRICEEACH_Binned'], inplace=True) # Remove the binned column for further analysis\n",
    "print(\"-\" * 30)"
   ]
  },
  {
   "cell_type": "markdown",
   "id": "84b4185e",
   "metadata": {},
   "source": [
    "3. Clustering- Can identify data points that are significantly different from the majority\n",
    "We can cluster numerical features and consider small clusters as potential noise."
   ]
  },
  {
   "cell_type": "code",
   "execution_count": 15,
   "id": "6cdaf644",
   "metadata": {},
   "outputs": [
    {
     "name": "stdout",
     "output_type": "stream",
     "text": [
      "\n",
      "Noise Reduction using Clustering (Outlier Detection based on 'PRICEEACH' and 'QUANTITYORDERED'):\n",
      "Potential outliers detected by clustering:\n",
      "Empty DataFrame\n",
      "Columns: [PRICEEACH, QUANTITYORDERED]\n",
      "Index: []\n",
      "------------------------------\n"
     ]
    }
   ],
   "source": [
    "print(\"\\nNoise Reduction using Clustering (Outlier Detection based on 'PRICEEACH' and 'QUANTITYORDERED'):\")\n",
    "scaler_cluster = StandardScaler()\n",
    "scaled_features = scaler_cluster.fit_transform(sales[['PRICEEACH', 'QUANTITYORDERED']])\n",
    "kmeans = KMeans(n_clusters=3, random_state=42, n_init=10)\n",
    "sales['Cluster'] = kmeans.fit_predict(scaled_features)\n",
    "cluster_counts = sales['Cluster'].value_counts()\n",
    "minority_clusters = cluster_counts[cluster_counts < len(sales) * 0.05].index # Consider clusters with < 5% as potential noise\n",
    "outliers_cluster = sales[sales['Cluster'].isin(minority_clusters)]\n",
    "print(\"Potential outliers detected by clustering:\")\n",
    "print(outliers_cluster[['PRICEEACH', 'QUANTITYORDERED']])\n",
    "sales.drop(columns=['Cluster'], inplace=True) # Remove the cluster column\n",
    "print(\"-\" * 30)"
   ]
  },
  {
   "cell_type": "markdown",
   "id": "1b7fbdaa",
   "metadata": {},
   "source": [
    "## DATA TRANSFORMATION\n",
    "- Data transformation is about changing the format, structure, or representation of your data to make it more suitable and effective for a specific purpose, primarily for analysis, modeling, or visualization.\n",
    "- In this section, we shall look at three processes, Scaling, Encoding and Feature Engineering."
   ]
  },
  {
   "cell_type": "markdown",
   "id": "9e45aafe",
   "metadata": {},
   "source": [
    "##### 1. Scaling\n",
    "- Scaling is a technique used to standardize the range of independent variables or features of data. In other words, it puts all the variables on a similar scale. This is important because features with larger values might influence machine learning algorithms that are sensitive to the size of input features (e.g., in distance-based algorithms like k-NNs, or gradient descent in neural networks).\n",
    "- There are two main types of scaling techniques: *Standardization* and *Normalization*. \n",
    "    - **Standardization** (Z-score Scaling): This scales the data to have a mean of 0 and a standard deviation of 1. It can be more robust to outliers and is often preferred by algorithms that assume the data is normally distributed.\n",
    "    - **Normalization** (Min-Max Scaling): This scales the data to a fixed range, usually between 0 and 1. Normalization is often useful when the data has a bounded range, or when you want to have all features on a common scale for interpretability."
   ]
  },
  {
   "cell_type": "code",
   "execution_count": 16,
   "id": "629bdba3",
   "metadata": {},
   "outputs": [
    {
     "name": "stdout",
     "output_type": "stream",
     "text": [
      "\n",
      "Normalization on 'PRICEEACH':\n",
      "   PRICEEACH  PRICEEACH_Normalized\n",
      "0      95.70              0.941193\n",
      "1      81.35              0.744940\n",
      "2      94.74              0.928063\n",
      "3      83.26              0.771061\n",
      "4     100.00              1.000000\n",
      "------------------------------\n",
      "\n",
      "Normalization on 'QUANTITYORDERED':\n",
      "   QUANTITYORDERED  QUANTITYORDERED_Normalized\n",
      "0               30                    0.263736\n",
      "1               34                    0.307692\n",
      "2               41                    0.384615\n",
      "3               45                    0.428571\n",
      "4               49                    0.472527\n",
      "------------------------------\n",
      "\n",
      "Standardization on 'PRICEEACH':\n",
      "   PRICEEACH  PRICEEACH_Standardized\n",
      "0      95.70                0.596978\n",
      "1      81.35               -0.114450\n",
      "2      94.74                0.549384\n",
      "3      83.26               -0.019759\n",
      "4     100.00                0.810158\n",
      "------------------------------\n",
      "\n",
      "Standardization on 'QUANTITYORDERED':\n",
      "   QUANTITYORDERED  QUANTITYORDERED_Standardized\n",
      "0               30                     -0.522891\n",
      "1               34                     -0.112201\n",
      "2               41                      0.606505\n",
      "3               45                      1.017195\n",
      "4               49                      1.427884\n",
      "------------------------------\n"
     ]
    }
   ],
   "source": [
    "from sklearn.preprocessing import MinMaxScaler, StandardScaler\n",
    "\n",
    "# 1. Normalization on 'PRICEEACH'\n",
    "print(\"\\nNormalization on 'PRICEEACH':\")\n",
    "scaler_minmax_price = MinMaxScaler()\n",
    "sales['PRICEEACH_Normalized'] = scaler_minmax_price.fit_transform(sales[['PRICEEACH']])\n",
    "print(sales[['PRICEEACH', 'PRICEEACH_Normalized']].head())\n",
    "print(\"-\" * 30)\n",
    "\n",
    "# 2. Normalization on 'QUANTITYORDERED'\n",
    "print(\"\\nNormalization on 'QUANTITYORDERED':\")\n",
    "scaler_minmax_quantity = MinMaxScaler()\n",
    "sales['QUANTITYORDERED_Normalized'] = scaler_minmax_quantity.fit_transform(sales[['QUANTITYORDERED']])\n",
    "print(sales[['QUANTITYORDERED', 'QUANTITYORDERED_Normalized']].head())\n",
    "print(\"-\" * 30)\n",
    "\n",
    "# 3. Standardization on 'PRICEEACH'\n",
    "print(\"\\nStandardization on 'PRICEEACH':\")\n",
    "scaler_standard_price = StandardScaler()\n",
    "sales['PRICEEACH_Standardized'] = scaler_standard_price.fit_transform(sales[['PRICEEACH']])\n",
    "print(sales[['PRICEEACH', 'PRICEEACH_Standardized']].head())\n",
    "print(\"-\" * 30)\n",
    "\n",
    "# 4. Standardization on 'QUANTITYORDERED'\n",
    "print(\"\\nStandardization on 'QUANTITYORDERED':\")\n",
    "scaler_standard_quantity = StandardScaler()\n",
    "sales['QUANTITYORDERED_Standardized'] = scaler_standard_quantity.fit_transform(sales[['QUANTITYORDERED']])\n",
    "print(sales[['QUANTITYORDERED', 'QUANTITYORDERED_Standardized']].head())\n",
    "print(\"-\" * 30)\n"
   ]
  },
  {
   "cell_type": "markdown",
   "id": "b4705953",
   "metadata": {},
   "source": [
    "##### 2. Encoding\n",
    "- Many machine learning algorithms can only work with numerical input. Therefore, if our dataset contains categorical variables (like PRODUCTLINE, STATUS, COUNTRY, DEALSIZE, etc.), we need to transform them into a numerical format.\n",
    "- **One-Hot Encoding**: This creates new binary (0 or 1) columns for each unique category in the original categorical column. For example, if the PRODUCTLINE column has categories 'Motorcycles', 'Cars', and 'Trucks', one-hot encoding would create three new columns: PRODUCTLINE_Motorcycles, PRODUCTLINE_Cars, and PRODUCTLINE_Trucks. A '1' in a column indicates that the original row belonged to that category, and '0' otherwise.\n",
    "    -  One-hot encoding is generally preferred for nominal categorical variables (where there is no inherent order between the categories) because it avoids imposing an ordinal relationship that might not exist. However, it can significantly increase the dimensionality of the dataset if there are many unique categories.\n",
    "\n",
    "- **Label Encoding**: This assigns a unique numerical label to each unique category in the column. For example, 'Motorcycles' might be encoded as 0, 'Cars' as 1, and 'Trucks' as 2.\n",
    "    - Label encoding can be used for ordinal categorical variables (where there is a meaningful order between the categories, e.g., 'Small', 'Medium', 'Large'), or for nominal variables with a very large number of unique categories where one-hot encoding would lead to a very sparse and high-dimensional dataset. However, it's crucial to ensure that the numerical labels don't imply a false ordinal relationship to the algorithm.\n"
   ]
  },
  {
   "cell_type": "code",
   "execution_count": 17,
   "id": "c0e7855e",
   "metadata": {},
   "outputs": [
    {
     "name": "stdout",
     "output_type": "stream",
     "text": [
      "\n",
      "Label Encoding for 'DEALSIZE':\n",
      "  DEALSIZE  DEALSIZE_Encoded\n",
      "0    Small                 2\n",
      "1    Small                 2\n",
      "2   Medium                 1\n",
      "3   Medium                 1\n",
      "4   Medium                 1\n",
      "------------------------------\n",
      "\n",
      "Label Encoding mapping for 'DEALSIZE':\n",
      "{'Large': np.int64(0), 'Medium': np.int64(1), 'Small': np.int64(2)}\n",
      "------------------------------\n"
     ]
    }
   ],
   "source": [
    "from sklearn.preprocessing import LabelEncoder\n",
    "\n",
    "# 1. One-Hot Encoding for 'COUNTRY'\n",
    "# print(\"\\nOne-Hot Encoding for 'COUNTRY':\")\n",
    "# sales = pd.get_dummies(sales, columns=['COUNTRY'], prefix='COUNTRY')\n",
    "# print(sales.filter(like='COUNTRY_').head())\n",
    "# print(\"-\" * 30)\n",
    "\n",
    "# 2. Label Encoding for 'DEALSIZE'\n",
    "print(\"\\nLabel Encoding for 'DEALSIZE':\")\n",
    "label_encoder_deal_size = LabelEncoder()\n",
    "sales['DEALSIZE_Encoded'] = label_encoder_deal_size.fit_transform(sales['DEALSIZE'])\n",
    "print(sales[['DEALSIZE', 'DEALSIZE_Encoded']].head())\n",
    "print(\"-\" * 30)\n",
    "\n",
    "# To understand the mapping of labels, we can access the classes_ attribute:\n",
    "print(\"\\nLabel Encoding mapping for 'DEALSIZE':\")\n",
    "print(dict(zip(label_encoder_deal_size.classes_, label_encoder_deal_size.transform(label_encoder_deal_size.classes_))))\n",
    "print(\"-\" * 30)"
   ]
  },
  {
   "cell_type": "markdown",
   "id": "9dfd61fc",
   "metadata": {},
   "source": [
    "##### 3. Feature Engineering\n",
    "- Feature engineering involves creating new features from existing ones that might provide more useful information to the analysis or model. \n",
    "- Feature engineering is crucial for improving the performance of analytical models by providing them with more relevant and informative input features. It often depends heavily on the specific problem you are trying to solve and the characteristics of your data. "
   ]
  },
  {
   "cell_type": "markdown",
   "id": "4fbc0d97",
   "metadata": {},
   "source": [
    "For our sales dataset, let's implement a couple of straightforward feature engineering examples:\n",
    "\n",
    "- a. Extracting Time-Based Features from 'ORDERDATE': We can break down the 'ORDERDATE' into its constituent parts like month and year. This can be useful for analyzing trends over time.\n",
    "- b. Creating a Simple Interaction Feature: 'Quantity_x_Price': We can multiply the 'QUANTITYORDERED' and 'PRICEEACH' columns. While this is very close to 'SALES', it represents a direct interaction between the quantity and the unit price before any potential discounts or other factors reflected in 'SALES'."
   ]
  },
  {
   "cell_type": "code",
   "execution_count": 18,
   "id": "445bb4cd",
   "metadata": {},
   "outputs": [
    {
     "name": "stdout",
     "output_type": "stream",
     "text": [
      "\n",
      "Extracting Month and Year from 'ORDERDATE':\n",
      "     ORDERDATE  ORDER_MONTH  ORDER_YEAR\n",
      "0   2003-02-24            2        2003\n",
      "1   2003-05-07            5        2003\n",
      "2   2003-07-01            7        2003\n",
      "3   2003-08-25            8        2003\n",
      "4   2003-10-10           10        2003\n",
      "5   2003-10-28           10        2003\n",
      "6   2003-11-11           11        2003\n",
      "7   2003-11-18           11        2003\n",
      "8   2003-12-01           12        2003\n",
      "9   2004-01-15            1        2004\n",
      "10  2004-02-20            2        2004\n",
      "11  2004-04-05            4        2004\n",
      "12  2004-05-18            5        2004\n",
      "13  2004-06-28            6        2004\n",
      "14  2004-07-23            7        2004\n",
      "------------------------------\n",
      "\n",
      "Creating Interaction Feature: 'Quantity_x_Price':\n",
      "    QUANTITYORDERED  PRICEEACH  Quantity_x_Price    SALES\n",
      "0                30      95.70           2871.00  2871.00\n",
      "1                34      81.35           2765.90  2765.90\n",
      "2                41      94.74           3884.34  3884.34\n",
      "3                45      83.26           3746.70  3746.70\n",
      "4                49     100.00           4900.00  5205.27\n",
      "5                36      96.66           3479.76  3479.76\n",
      "6                29      86.13           2497.77  2497.77\n",
      "7                48     100.00           4800.00  5512.32\n",
      "8                22      98.57           2168.54  2168.54\n",
      "9                41     100.00           4100.00  4708.44\n",
      "10               37     100.00           3700.00  3965.66\n",
      "11               23     100.00           2300.00  2333.12\n",
      "12               28     100.00           2800.00  3188.64\n",
      "13               34     100.00           3400.00  3676.76\n",
      "14               45      92.83           4177.35  4177.35\n",
      "------------------------------\n"
     ]
    }
   ],
   "source": [
    "# 1. Extracting Month and Year from 'ORDERDATE'\n",
    "print(\"\\nExtracting Month and Year from 'ORDERDATE':\")\n",
    "sales['ORDER_MONTH'] = pd.to_datetime(sales['ORDERDATE']).dt.month\n",
    "sales['ORDER_YEAR'] = pd.to_datetime(sales['ORDERDATE']).dt.year\n",
    "print(sales[['ORDERDATE', 'ORDER_MONTH', 'ORDER_YEAR']].head(15))\n",
    "print(\"-\" * 30)\n",
    "\n",
    "# 2. Creating Interaction Feature: 'Quantity_x_Price'\n",
    "print(\"\\nCreating Interaction Feature: 'Quantity_x_Price':\")\n",
    "sales['Quantity_x_Price'] = sales['QUANTITYORDERED'] * sales['PRICEEACH']\n",
    "print(sales[['QUANTITYORDERED', 'PRICEEACH', 'Quantity_x_Price', 'SALES']].head(15))\n",
    "print(\"-\" * 30)"
   ]
  },
  {
   "cell_type": "code",
   "execution_count": 19,
   "id": "5ac177a2",
   "metadata": {},
   "outputs": [
    {
     "name": "stdout",
     "output_type": "stream",
     "text": [
      "Number of rows where SALES and (QUANTITYORDERED * PRICEEACH) are similar (within the threshold of 0.001): 1519\n",
      "Number of rows where SALES and (QUANTITYORDERED * PRICEEACH) are different (beyond the threshold): 1304\n",
      "\n",
      "Rows where SALES and (QUANTITYORDERED * PRICEEACH) are different:\n",
      "    QUANTITYORDERED  PRICEEACH  Quantity_x_Price    SALES  Price_Difference  \\\n",
      "4                49      100.0            4900.0  5205.27            305.27   \n",
      "7                48      100.0            4800.0  5512.32            712.32   \n",
      "9                41      100.0            4100.0  4708.44            608.44   \n",
      "10               37      100.0            3700.0  3965.66            265.66   \n",
      "11               23      100.0            2300.0  2333.12             33.12   \n",
      "12               28      100.0            2800.0  3188.64            388.64   \n",
      "13               34      100.0            3400.0  3676.76            276.76   \n",
      "15               36      100.0            3600.0  4099.68            499.68   \n",
      "16               23      100.0            2300.0  2597.39            297.39   \n",
      "17               41      100.0            4100.0  4394.38            294.38   \n",
      "19               42      100.0            4200.0  4396.14            196.14   \n",
      "20               41      100.0            4100.0  7737.93           3637.93   \n",
      "24               24      100.0            2400.0  2434.56             34.56   \n",
      "25               66      100.0            6600.0  7516.08            916.08   \n",
      "26               26      100.0            2600.0  5404.62           2804.62   \n",
      "\n",
      "      COUNTRY  \n",
      "4         USA  \n",
      "7      Norway  \n",
      "9      France  \n",
      "10  Australia  \n",
      "11        USA  \n",
      "12        USA  \n",
      "13        USA  \n",
      "15        USA  \n",
      "16    Finland  \n",
      "17     Norway  \n",
      "19        USA  \n",
      "20    Austria  \n",
      "24         UK  \n",
      "25      Spain  \n",
      "26     Norway  \n",
      "\n",
      "Counts of unique countries where SALES and (QUANTITYORDERED * PRICEEACH) are different (most frequent first):\n",
      "COUNTRY\n",
      "USA            469\n",
      "Spain          147\n",
      "France         138\n",
      "Australia       89\n",
      "Italy           55\n",
      "UK              54\n",
      "Norway          47\n",
      "Finland         43\n",
      "Singapore       41\n",
      "Denmark         35\n",
      "Sweden          31\n",
      "Germany         29\n",
      "Canada          29\n",
      "Austria         25\n",
      "Japan           20\n",
      "Switzerland     18\n",
      "Belgium         14\n",
      "Philippines     11\n",
      "Ireland          9\n",
      "Name: count, dtype: int64\n"
     ]
    }
   ],
   "source": [
    "# Calculate the absolute difference between the two columns\n",
    "sales['Price_Difference'] = np.abs(sales['SALES'] - sales['Quantity_x_Price'])\n",
    "\n",
    "# We define a threshold for considering the values \"similar\".\n",
    "# The appropriate threshold will depend on the scale of your sales figures and the level of precision you need.\n",
    "# For example, if the differences are likely due to small rounding errors, a very small threshold might be appropriate.\n",
    "# If there are other factors involved (like discounts), a larger threshold might be needed to consider them \"similar enough\" for your purpose.\n",
    "similarity_threshold = 0.001  # Example: considering values similar if the absolute difference is less than 0.001\n",
    "\n",
    "# Create a boolean column indicating if the values are similar based on the threshold\n",
    "sales['Are_Similar'] = sales['Price_Difference'] <= similarity_threshold\n",
    "\n",
    "# Get a count of similar and different values\n",
    "similar_count = sales['Are_Similar'].sum()\n",
    "different_count = len(sales) - similar_count\n",
    "\n",
    "print(f\"Number of rows where SALES and (QUANTITYORDERED * PRICEEACH) are similar (within the threshold of {similarity_threshold}): {similar_count}\")\n",
    "print(f\"Number of rows where SALES and (QUANTITYORDERED * PRICEEACH) are different (beyond the threshold): {different_count}\")\n",
    "\n",
    "# Display the rows where the values are different, along with the difference\n",
    "print(\"\\nRows where SALES and (QUANTITYORDERED * PRICEEACH) are different:\")\n",
    "different_rows = sales[~sales['Are_Similar']]\n",
    "print(different_rows[['QUANTITYORDERED', 'PRICEEACH', 'Quantity_x_Price', 'SALES', 'Price_Difference', 'COUNTRY']].head(15))\n",
    "\n",
    "# Get the count of unique countries in the rows where SALES and Quantity_x_Price are different\n",
    "country_counts_different = different_rows['COUNTRY'].value_counts()\n",
    "\n",
    "print(\"\\nCounts of unique countries where SALES and (QUANTITYORDERED * PRICEEACH) are different (most frequent first):\")\n",
    "print(country_counts_different)"
   ]
  },
  {
   "cell_type": "markdown",
   "id": "65da71e2",
   "metadata": {},
   "source": [
    "- As we can see in the just executed code, there are 1304, rows where the sales quoted vary from the quantity_x_price column with the sales column having the higher values. \n",
    "- This suggests that there could be additional costs incurred when the products were bought, such as taxes, shipping and handling fees or service charges. \n",
    "- Further evaluation shows that at least every country has this variance in price and the USA had the most price variances. Which begs to ask, why the USA?"
   ]
  },
  {
   "cell_type": "markdown",
   "id": "e3182c41",
   "metadata": {},
   "source": [
    "## DATA REDUCTION\n",
    "- Data reduction is a technique used in data mining to reduce the size of a dataset while still preserving the most important information. This can be beneficial in situations where the dataset is too large to be processed efficiently, or where the dataset contains a large amount of irrelevant or redundant information."
   ]
  },
  {
   "cell_type": "markdown",
   "id": "50d9afa1",
   "metadata": {},
   "source": [
    "1. Dimensionality Reduction (Feature Selection)\n",
    "- Dimensionality reduction aims to reduce the number of features (columns) in your dataset while retaining as much important information as possible. Feature selection is a specific type of dimensionality reduction where you choose a subset of the original features that are most relevant to your task, discarding the rest.\n",
    "- Let's consider a simple approach based on the potential redundancy or lack of direct relevance of certain columns. In a more rigorous scenario, you would use statistical methods (e.g., correlation analysis, chi-squared tests), model-based selection (e.g., feature importance from tree-based models), or more advanced techniques like Principal Component Analysis (PCA) for dimensionality reduction.\n",
    "\n",
    "    - Potential Columns for Removal:\n",
    "        - ORDERNUMBER: This seems like a unique identifier for each order and might not be directly useful for analysis across orders.\n",
    "        - ORDERLINENUMBER: Similar to ORDERNUMBER, this identifies the line item within an order and might not be a strong predictor across different orders.\n",
    "        - TERRITORY: Since most of the important location details are captured in the ADDRESSLINE1, CITY and COUNTRY we don't need to keep this column."
   ]
  },
  {
   "cell_type": "code",
   "execution_count": 20,
   "id": "b109a88a",
   "metadata": {},
   "outputs": [
    {
     "name": "stdout",
     "output_type": "stream",
     "text": [
      "Shape of original DataFrame: (2823, 33)\n",
      "Shape of DataFrame after feature selection: (2823, 30)\n",
      "\n",
      "First few rows of DataFrame after feature selection:\n",
      "   QUANTITYORDERED  PRICEEACH    SALES   ORDERDATE   STATUS  QTR_ID  MONTH_ID  \\\n",
      "0               30      95.70  2871.00  2003-02-24  Shipped       1         2   \n",
      "1               34      81.35  2765.90  2003-05-07  Shipped       2         5   \n",
      "2               41      94.74  3884.34  2003-07-01  Shipped       3         7   \n",
      "3               45      83.26  3746.70  2003-08-25  Shipped       3         8   \n",
      "4               49     100.00  5205.27  2003-10-10  Shipped       4        10   \n",
      "\n",
      "   YEAR_ID  PRODUCTLINE PRODUCTCODE  ... PRICEEACH_Normalized  \\\n",
      "0     2003  Motorcycles    S10_1678  ...             0.941193   \n",
      "1     2003  Motorcycles    S10_1678  ...             0.744940   \n",
      "2     2003  Motorcycles    S10_1678  ...             0.928063   \n",
      "3     2003  Motorcycles    S10_1678  ...             0.771061   \n",
      "4     2003  Motorcycles    S10_1678  ...             1.000000   \n",
      "\n",
      "  QUANTITYORDERED_Normalized PRICEEACH_Standardized  \\\n",
      "0                   0.263736               0.596978   \n",
      "1                   0.307692              -0.114450   \n",
      "2                   0.384615               0.549384   \n",
      "3                   0.428571              -0.019759   \n",
      "4                   0.472527               0.810158   \n",
      "\n",
      "  QUANTITYORDERED_Standardized DEALSIZE_Encoded ORDER_MONTH ORDER_YEAR  \\\n",
      "0                    -0.522891                2           2       2003   \n",
      "1                    -0.112201                2           5       2003   \n",
      "2                     0.606505                1           7       2003   \n",
      "3                     1.017195                1           8       2003   \n",
      "4                     1.427884                1          10       2003   \n",
      "\n",
      "  Quantity_x_Price Price_Difference Are_Similar  \n",
      "0          2871.00     0.000000e+00        True  \n",
      "1          2765.90     4.547474e-13        True  \n",
      "2          3884.34     4.547474e-13        True  \n",
      "3          3746.70     4.547474e-13        True  \n",
      "4          4900.00     3.052700e+02       False  \n",
      "\n",
      "[5 rows x 30 columns]\n",
      "------------------------------\n"
     ]
    }
   ],
   "source": [
    "columns_to_drop = ['ORDERNUMBER', 'ORDERLINENUMBER', 'TERRITORY']\n",
    "sales_reduced_fs = sales.drop(columns=columns_to_drop)\n",
    "\n",
    "print(f\"Shape of original DataFrame: {sales.shape}\")\n",
    "print(f\"Shape of DataFrame after feature selection: {sales_reduced_fs.shape}\")\n",
    "print(\"\\nFirst few rows of DataFrame after feature selection:\")\n",
    "print(sales_reduced_fs.head())\n",
    "print(\"-\" * 30)\n",
    "\n",
    "# For subsequent analysis, you would typically use 'sales_reduced_fs'\n",
    "sales = sales_reduced_fs.copy() # Update 'sales' to the reduced version for further steps in this notebook"
   ]
  },
  {
   "cell_type": "markdown",
   "id": "405876b5",
   "metadata": {},
   "source": [
    "2. Data Sampling\n",
    "- Data sampling involves selecting a representative subset of the data. This is useful when dealing with very large datasets where processing the entire dataset can be computationally expensive or time-consuming. If the sample is truly representative, analysis performed on the sample can often provide insights that are generalizable to the entire dataset.\n",
    "\n",
    "- The simplest form of sampling is random sampling, where each data point has an equal probability of being selected."
   ]
  },
  {
   "cell_type": "code",
   "execution_count": 21,
   "id": "61050103",
   "metadata": {},
   "outputs": [
    {
     "name": "stdout",
     "output_type": "stream",
     "text": [
      "Shape of DataFrame before sampling: (2823, 30)\n",
      "Shape of DataFrame after sampling (50.0%): (1412, 30)\n",
      "\n",
      "First few rows of the sampled DataFrame:\n",
      "      QUANTITYORDERED  PRICEEACH    SALES   ORDERDATE      STATUS  QTR_ID  \\\n",
      "1091               21      73.17  1536.57  2003-05-08     Shipped       2   \n",
      "2328               25      86.74  2168.50  2003-05-07     Shipped       2   \n",
      "1474               39     100.00  4351.23  2003-12-01     Shipped       4   \n",
      "1437               60      64.67  3880.20  2005-05-29  In Process       2   \n",
      "1105               43      70.76  3042.68  2004-08-30     Shipped       3   \n",
      "\n",
      "      MONTH_ID  YEAR_ID   PRODUCTLINE PRODUCTCODE  ... PRICEEACH_Normalized  \\\n",
      "1091         5     2003  Classic Cars    S18_3278  ...             0.633069   \n",
      "2328         5     2003   Motorcycles    S32_4485  ...             0.818654   \n",
      "1474        12     2003   Motorcycles    S24_1578  ...             1.000000   \n",
      "1437         5     2005  Classic Cars    S24_1046  ...             0.516822   \n",
      "1105         8     2004  Classic Cars    S18_3278  ...             0.600109   \n",
      "\n",
      "     QUANTITYORDERED_Normalized PRICEEACH_Standardized  \\\n",
      "1091                   0.164835              -0.519989   \n",
      "2328                   0.208791               0.152769   \n",
      "1474                   0.362637               0.810158   \n",
      "1437                   0.593407              -0.941392   \n",
      "1105                   0.406593              -0.639469   \n",
      "\n",
      "     QUANTITYORDERED_Standardized DEALSIZE_Encoded ORDER_MONTH ORDER_YEAR  \\\n",
      "1091                    -1.446942                2           5       2003   \n",
      "2328                    -1.036253                2           5       2003   \n",
      "1474                     0.401161                1          12       2003   \n",
      "1437                     2.557281                1           5       2005   \n",
      "1105                     0.811850                1           8       2004   \n",
      "\n",
      "     Quantity_x_Price Price_Difference Are_Similar  \n",
      "1091          1536.57     0.000000e+00        True  \n",
      "2328          2168.50     0.000000e+00        True  \n",
      "1474          3900.00     4.512300e+02       False  \n",
      "1437          3880.20     4.547474e-13        True  \n",
      "1105          3042.68     4.547474e-13        True  \n",
      "\n",
      "[5 rows x 30 columns]\n",
      "------------------------------\n"
     ]
    }
   ],
   "source": [
    "# Let's take a 50% random sample of the data\n",
    "sample_fraction = 0.5\n",
    "sales_sampled = sales_reduced_fs.sample(frac=sample_fraction, random_state=42) # Setting random_state for reproducibility\n",
    "\n",
    "print(f\"Shape of DataFrame before sampling: {sales.shape}\")\n",
    "print(f\"Shape of DataFrame after sampling ({sample_fraction*100}%): {sales_sampled.shape}\")\n",
    "print(\"\\nFirst few rows of the sampled DataFrame:\")\n",
    "print(sales_sampled.head())\n",
    "print(\"-\" * 30)"
   ]
  },
  {
   "cell_type": "markdown",
   "id": "05f98342",
   "metadata": {},
   "source": [
    "3. Data Aggregation\n",
    "- Data aggregation involves summarizing data by combining multiple data points into a single summary. This can reduce the number of rows in your dataset and can reveal higher-level patterns.\n",
    "\n",
    "- Example: Aggregating Sales by Product Line and Year:\n",
    "Let's say we want to analyze the total sales for each product line per year. We can achieve this by grouping the data by 'PRODUCTLINE' and 'ORDER_YEAR' and then calculating the sum of the 'SALES' for each group."
   ]
  },
  {
   "cell_type": "code",
   "execution_count": 22,
   "id": "abb5e05a",
   "metadata": {},
   "outputs": [
    {
     "name": "stdout",
     "output_type": "stream",
     "text": [
      "Aggregated Total Sales by Product Line and Year:\n",
      "         PRODUCTLINE  ORDER_YEAR  TOTAL_SALES\n",
      "0       Classic Cars        2003   1484785.29\n",
      "1       Classic Cars        2004   1762257.09\n",
      "2       Classic Cars        2005    672573.28\n",
      "3        Motorcycles        2003    370895.58\n",
      "4        Motorcycles        2004    560545.23\n",
      "5        Motorcycles        2005    234947.53\n",
      "6             Planes        2003    272257.60\n",
      "7             Planes        2004    502671.80\n",
      "8             Planes        2005    200074.17\n",
      "9              Ships        2003    244821.09\n",
      "10             Ships        2004    341437.97\n",
      "11             Ships        2005    128178.07\n",
      "12            Trains        2003     72802.29\n",
      "13            Trains        2004    116523.85\n",
      "14            Trains        2005     36917.33\n",
      "15  Trucks and Buses        2003    420429.93\n",
      "16  Trucks and Buses        2004    529302.89\n",
      "17  Trucks and Buses        2005    178057.02\n",
      "18      Vintage Cars        2003    650987.76\n",
      "19      Vintage Cars        2004    911423.77\n",
      "20      Vintage Cars        2005    340739.31\n",
      "------------------------------\n"
     ]
    }
   ],
   "source": [
    "sales_aggregated = sales.groupby(['PRODUCTLINE', 'ORDER_YEAR'])['SALES'].sum().reset_index()\n",
    "sales_aggregated.rename(columns={'SALES': 'TOTAL_SALES'}, inplace=True)\n",
    "\n",
    "print(\"Aggregated Total Sales by Product Line and Year:\")\n",
    "print(sales_aggregated)\n",
    "print(\"-\" * 30)"
   ]
  },
  {
   "cell_type": "markdown",
   "id": "18ddb23d",
   "metadata": {},
   "source": [
    "HEATMAPS"
   ]
  },
  {
   "cell_type": "code",
   "execution_count": null,
   "id": "7c9e987c",
   "metadata": {},
   "outputs": [
    {
     "data": {
      "image/png": "[encoded data removed]",
      "text/plain": [
       "<Figure size 1000x800 with 2 Axes>"
      ]
     },
     "metadata": {},
     "output_type": "display_data"
    }
   ],
   "source": [
    "import seaborn as sns\n",
    "import matplotlib.pyplot as plt\n",
    "\n",
    "# Your Data (Copy and Paste Directly)\n",
    "data = pd.DataFrame({\n",
    "    'PRODUCTLINE': ['Classic Cars', 'Classic Cars', 'Classic Cars', 'Motorcycles', 'Motorcycles', 'Motorcycles',\n",
    "                    'Planes', 'Planes', 'Planes', 'Ships', 'Ships', 'Ships', 'Trains', 'Trains', 'Trains',\n",
    "                    'Trucks and Buses', 'Trucks and Buses', 'Trucks and Buses', 'Vintage Cars', 'Vintage Cars', 'Vintage Cars'],\n",
    "    'ORDER_YEAR': [2003, 2004, 2005, 2003, 2004, 2005, 2003, 2004, 2005, 2003, 2004, 2005, 2003, 2004, 2005,\n",
    "                   2003, 2004, 2005, 2003, 2004, 2005],\n",
    "    'TOTAL_SALES': [1484785.29, 1762257.09, 672573.28, 370895.58, 560545.23, 234947.53, 272257.60, 502671.80,\n",
    "                    200074.17, 244821.09, 341437.97, 128178.07, 72802.29, 116523.85, 36917.33, 420429.93,\n",
    "                    529302.89, 178057.02, 650987.76, 911423.77, 340739.31]\n",
    "})\n",
    "\n",
    "# Pivot the data for the heatmap\n",
    "pivot_table = data.pivot_table(index='PRODUCTLINE', columns='ORDER_YEAR', values='TOTAL_SALES')\n",
    "\n",
    "# -------------------- Enhanced Heatmap --------------------\n",
    "plt.figure(figsize=(10, 8))  # Adjust figure size for better readability\n",
    "\n",
    "# Custom color map for emphasis (you can experiment with others)\n",
    "cmap = sns.diverging_palette(220, 10, as_cmap=True)\n",
    "\n",
    "# Create the heatmap with customizations\n",
    "sns.heatmap(pivot_table, annot=True, fmt=\".2f\", cmap=cmap, linewidths=0.5, linecolor='white', cbar_kws={\"shrink\": 0.8})\n",
    "\n",
    "plt.title('Total Sales by Product Line and Year', fontsize=16, fontweight='bold')\n",
    "plt.xlabel('Order Year', fontsize=12)\n",
    "plt.ylabel('Product Line', fontsize=12)\n",
    "\n",
    "# Rotate x-axis labels if needed\n",
    "plt.xticks(rotation=0, ha='center')\n",
    "\n",
    "# Improve layout\n",
    "plt.tight_layout()\n",
    "\n",
    "plt.show()"
   ]
  },
  {
   "cell_type": "markdown",
   "id": "b9c3ddbc",
   "metadata": {},
   "source": [
    "DIAL GAUGES FOR THE YEAR 2004"
   ]
  },
  {
   "cell_type": "code",
   "execution_count": 6,
   "id": "c1c33df5",
   "metadata": {},
   "outputs": [
    {
     "data": {
      "application/vnd.plotly.v1+json": {
       "config": {
        "plotlyServerURL": "https://plot.ly"
       },
       "data": [
        {
         "domain": {
          "x": [
           0,
           0.2888888888888889
          ],
          "y": [
           0.7777777777777778,
           1
          ]
         },
         "gauge": {
          "axis": {
           "range": [
            null,
            100
           ]
          },
          "bar": {
           "color": "royalblue"
          },
          "steps": [
           {
            "color": "red",
            "range": [
             0,
             33
            ]
           },
           {
            "color": "yellow",
            "range": [
             33,
             66
            ]
           },
           {
            "color": "green",
            "range": [
             66,
             100
            ]
           }
          ],
          "threshold": {
           "line": {
            "color": "black",
            "width": 4
           },
           "thickness": 0.75,
           "value": 80
          }
         },
         "mode": "gauge+number",
         "name": "Classic Cars",
         "type": "indicator",
         "value": 37.30305747731884
        },
        {
         "domain": {
          "x": [
           0.35555555555555557,
           0.6444444444444445
          ],
          "y": [
           0.7777777777777778,
           1
          ]
         },
         "gauge": {
          "axis": {
           "range": [
            null,
            100
           ]
          },
          "bar": {
           "color": "royalblue"
          },
          "steps": [
           {
            "color": "red",
            "range": [
             0,
             33
            ]
           },
           {
            "color": "yellow",
            "range": [
             33,
             66
            ]
           },
           {
            "color": "green",
            "range": [
             66,
             100
            ]
           }
          ],
          "threshold": {
           "line": {
            "color": "black",
            "width": 4
           },
           "thickness": 0.75,
           "value": 80
          }
         },
         "mode": "gauge+number",
         "name": "Motorcycles",
         "type": "indicator",
         "value": 11.865494003106498
        },
        {
         "domain": {
          "x": [
           0.7111111111111111,
           1
          ],
          "y": [
           0.7777777777777778,
           1
          ]
         },
         "gauge": {
          "axis": {
           "range": [
            null,
            100
           ]
          },
          "bar": {
           "color": "royalblue"
          },
          "steps": [
           {
            "color": "red",
            "range": [
             0,
             33
            ]
           },
           {
            "color": "yellow",
            "range": [
             33,
             66
            ]
           },
           {
            "color": "green",
            "range": [
             66,
             100
            ]
           }
          ],
          "threshold": {
           "line": {
            "color": "black",
            "width": 4
           },
           "thickness": 0.75,
           "value": 80
          }
         },
         "mode": "gauge+number",
         "name": "Planes",
         "type": "indicator",
         "value": 10.640442392901548
        },
        {
         "domain": {
          "x": [
           0,
           0.2888888888888889
          ],
          "y": [
           0.3888888888888889,
           0.6111111111111112
          ]
         },
         "gauge": {
          "axis": {
           "range": [
            null,
            100
           ]
          },
          "bar": {
           "color": "royalblue"
          },
          "steps": [
           {
            "color": "red",
            "range": [
             0,
             33
            ]
           },
           {
            "color": "yellow",
            "range": [
             33,
             66
            ]
           },
           {
            "color": "green",
            "range": [
             66,
             100
            ]
           }
          ],
          "threshold": {
           "line": {
            "color": "black",
            "width": 4
           },
           "thickness": 0.75,
           "value": 80
          }
         },
         "mode": "gauge+number",
         "name": "Ships",
         "type": "indicator",
         "value": 7.227481331823761
        },
        {
         "domain": {
          "x": [
           0.35555555555555557,
           0.6444444444444445
          ],
          "y": [
           0.3888888888888889,
           0.6111111111111112
          ]
         },
         "gauge": {
          "axis": {
           "range": [
            null,
            100
           ]
          },
          "bar": {
           "color": "royalblue"
          },
          "steps": [
           {
            "color": "red",
            "range": [
             0,
             33
            ]
           },
           {
            "color": "yellow",
            "range": [
             33,
             66
            ]
           },
           {
            "color": "green",
            "range": [
             66,
             100
            ]
           }
          ],
          "threshold": {
           "line": {
            "color": "black",
            "width": 4
           },
           "thickness": 0.75,
           "value": 80
          }
         },
         "mode": "gauge+number",
         "name": "Trains",
         "type": "indicator",
         "value": 2.466550368101217
        },
        {
         "domain": {
          "x": [
           0.7111111111111111,
           1
          ],
          "y": [
           0.3888888888888889,
           0.6111111111111112
          ]
         },
         "gauge": {
          "axis": {
           "range": [
            null,
            100
           ]
          },
          "bar": {
           "color": "royalblue"
          },
          "steps": [
           {
            "color": "red",
            "range": [
             0,
             33
            ]
           },
           {
            "color": "yellow",
            "range": [
             33,
             66
            ]
           },
           {
            "color": "green",
            "range": [
             66,
             100
            ]
           }
          ],
          "threshold": {
           "line": {
            "color": "black",
            "width": 4
           },
           "thickness": 0.75,
           "value": 80
          }
         },
         "mode": "gauge+number",
         "name": "Trucks and Buses",
         "type": "indicator",
         "value": 11.204163252128538
        },
        {
         "domain": {
          "x": [
           0,
           0.2888888888888889
          ],
          "y": [
           0,
           0.22222222222222224
          ]
         },
         "gauge": {
          "axis": {
           "range": [
            null,
            100
           ]
          },
          "bar": {
           "color": "royalblue"
          },
          "steps": [
           {
            "color": "red",
            "range": [
             0,
             33
            ]
           },
           {
            "color": "yellow",
            "range": [
             33,
             66
            ]
           },
           {
            "color": "green",
            "range": [
             66,
             100
            ]
           }
          ],
          "threshold": {
           "line": {
            "color": "black",
            "width": 4
           },
           "thickness": 0.75,
           "value": 80
          }
         },
         "mode": "gauge+number",
         "name": "Vintage Cars",
         "type": "indicator",
         "value": 19.292811174619608
        }
       ],
       "layout": {
        "annotations": [
         {
          "font": {
           "size": 16
          },
          "showarrow": false,
          "text": "Classic Cars Sales (2004) %",
          "x": 0.14444444444444446,
          "xanchor": "center",
          "xref": "paper",
          "y": 1,
          "yanchor": "bottom",
          "yref": "paper"
         },
         {
          "font": {
           "size": 16
          },
          "showarrow": false,
          "text": "Motorcycles Sales (2004) %",
          "x": 0.5,
          "xanchor": "center",
          "xref": "paper",
          "y": 1,
          "yanchor": "bottom",
          "yref": "paper"
         },
         {
          "font": {
           "size": 16
          },
          "showarrow": false,
          "text": "Planes Sales (2004) %",
          "x": 0.8555555555555556,
          "xanchor": "center",
          "xref": "paper",
          "y": 1,
          "yanchor": "bottom",
          "yref": "paper"
         },
         {
          "font": {
           "size": 16
          },
          "showarrow": false,
          "text": "Ships Sales (2004) %",
          "x": 0.14444444444444446,
          "xanchor": "center",
          "xref": "paper",
          "y": 0.6111111111111112,
          "yanchor": "bottom",
          "yref": "paper"
         },
         {
          "font": {
           "size": 16
          },
          "showarrow": false,
          "text": "Trains Sales (2004) %",
          "x": 0.5,
          "xanchor": "center",
          "xref": "paper",
          "y": 0.6111111111111112,
          "yanchor": "bottom",
          "yref": "paper"
         },
         {
          "font": {
           "size": 16
          },
          "showarrow": false,
          "text": "Trucks and Buses Sales (2004) %",
          "x": 0.8555555555555556,
          "xanchor": "center",
          "xref": "paper",
          "y": 0.6111111111111112,
          "yanchor": "bottom",
          "yref": "paper"
         },
         {
          "font": {
           "size": 16
          },
          "showarrow": false,
          "text": "Vintage Cars Sales (2004) %",
          "x": 0.14444444444444446,
          "xanchor": "center",
          "xref": "paper",
          "y": 0.22222222222222224,
          "yanchor": "bottom",
          "yref": "paper"
         }
        ],
        "height": 750,
        "showlegend": false,
        "template": {
         "data": {
          "bar": [
           {
            "error_x": {
             "color": "#2a3f5f"
            },
            "error_y": {
             "color": "#2a3f5f"
            },
            "marker": {
             "line": {
              "color": "#E5ECF6",
              "width": 0.5
             },
             "pattern": {
              "fillmode": "overlay",
              "size": 10,
              "solidity": 0.2
             }
            },
            "type": "bar"
           }
          ],
          "barpolar": [
           {
            "marker": {
             "line": {
              "color": "#E5ECF6",
              "width": 0.5
             },
             "pattern": {
              "fillmode": "overlay",
              "size": 10,
              "solidity": 0.2
             }
            },
            "type": "barpolar"
           }
          ],
          "carpet": [
           {
            "aaxis": {
             "endlinecolor": "#2a3f5f",
             "gridcolor": "white",
             "linecolor": "white",
             "minorgridcolor": "white",
             "startlinecolor": "#2a3f5f"
            },
            "baxis": {
             "endlinecolor": "#2a3f5f",
             "gridcolor": "white",
             "linecolor": "white",
             "minorgridcolor": "white",
             "startlinecolor": "#2a3f5f"
            },
            "type": "carpet"
           }
          ],
          "choropleth": [
           {
            "colorbar": {
             "outlinewidth": 0,
             "ticks": ""
            },
            "type": "choropleth"
           }
          ],
          "contour": [
           {
            "colorbar": {
             "outlinewidth": 0,
             "ticks": ""
            },
            "colorscale": [
             [
              0,
              "#0d0887"
             ],
             [
              0.1111111111111111,
              "#46039f"
             ],
             [
              0.2222222222222222,
              "#7201a8"
             ],
             [
              0.3333333333333333,
              "#9c179e"
             ],
             [
              0.4444444444444444,
              "#bd3786"
             ],
             [
              0.5555555555555556,
              "#d8576b"
             ],
             [
              0.6666666666666666,
              "#ed7953"
             ],
             [
              0.7777777777777778,
              "#fb9f3a"
             ],
             [
              0.8888888888888888,
              "#fdca26"
             ],
             [
              1,
              "#f0f921"
             ]
            ],
            "type": "contour"
           }
          ],
          "contourcarpet": [
           {
            "colorbar": {
             "outlinewidth": 0,
             "ticks": ""
            },
            "type": "contourcarpet"
           }
          ],
          "heatmap": [
           {
            "colorbar": {
             "outlinewidth": 0,
             "ticks": ""
            },
            "colorscale": [
             [
              0,
              "#0d0887"
             ],
             [
              0.1111111111111111,
              "#46039f"
             ],
             [
              0.2222222222222222,
              "#7201a8"
             ],
             [
              0.3333333333333333,
              "#9c179e"
             ],
             [
              0.4444444444444444,
              "#bd3786"
             ],
             [
              0.5555555555555556,
              "#d8576b"
             ],
             [
              0.6666666666666666,
              "#ed7953"
             ],
             [
              0.7777777777777778,
              "#fb9f3a"
             ],
             [
              0.8888888888888888,
              "#fdca26"
             ],
             [
              1,
              "#f0f921"
             ]
            ],
            "type": "heatmap"
           }
          ],
          "histogram": [
           {
            "marker": {
             "pattern": {
              "fillmode": "overlay",
              "size": 10,
              "solidity": 0.2
             }
            },
            "type": "histogram"
           }
          ],
          "histogram2d": [
           {
            "colorbar": {
             "outlinewidth": 0,
             "ticks": ""
            },
            "colorscale": [
             [
              0,
              "#0d0887"
             ],
             [
              0.1111111111111111,
              "#46039f"
             ],
             [
              0.2222222222222222,
              "#7201a8"
             ],
             [
              0.3333333333333333,
              "#9c179e"
             ],
             [
              0.4444444444444444,
              "#bd3786"
             ],
             [
              0.5555555555555556,
              "#d8576b"
             ],
             [
              0.6666666666666666,
              "#ed7953"
             ],
             [
              0.7777777777777778,
              "#fb9f3a"
             ],
             [
              0.8888888888888888,
              "#fdca26"
             ],
             [
              1,
              "#f0f921"
             ]
            ],
            "type": "histogram2d"
           }
          ],
          "histogram2dcontour": [
           {
            "colorbar": {
             "outlinewidth": 0,
             "ticks": ""
            },
            "colorscale": [
             [
              0,
              "#0d0887"
             ],
             [
              0.1111111111111111,
              "#46039f"
             ],
             [
              0.2222222222222222,
              "#7201a8"
             ],
             [
              0.3333333333333333,
              "#9c179e"
             ],
             [
              0.4444444444444444,
              "#bd3786"
             ],
             [
              0.5555555555555556,
              "#d8576b"
             ],
             [
              0.6666666666666666,
              "#ed7953"
             ],
             [
              0.7777777777777778,
              "#fb9f3a"
             ],
             [
              0.8888888888888888,
              "#fdca26"
             ],
             [
              1,
              "#f0f921"
             ]
            ],
            "type": "histogram2dcontour"
           }
          ],
          "mesh3d": [
           {
            "colorbar": {
             "outlinewidth": 0,
             "ticks": ""
            },
            "type": "mesh3d"
           }
          ],
          "parcoords": [
           {
            "line": {
             "colorbar": {
              "outlinewidth": 0,
              "ticks": ""
             }
            },
            "type": "parcoords"
           }
          ],
          "pie": [
           {
            "automargin": true,
            "type": "pie"
           }
          ],
          "scatter": [
           {
            "fillpattern": {
             "fillmode": "overlay",
             "size": 10,
             "solidity": 0.2
            },
            "type": "scatter"
           }
          ],
          "scatter3d": [
           {
            "line": {
             "colorbar": {
              "outlinewidth": 0,
              "ticks": ""
             }
            },
            "marker": {
             "colorbar": {
              "outlinewidth": 0,
              "ticks": ""
             }
            },
            "type": "scatter3d"
           }
          ],
          "scattercarpet": [
           {
            "marker": {
             "colorbar": {
              "outlinewidth": 0,
              "ticks": ""
             }
            },
            "type": "scattercarpet"
           }
          ],
          "scattergeo": [
           {
            "marker": {
             "colorbar": {
              "outlinewidth": 0,
              "ticks": ""
             }
            },
            "type": "scattergeo"
           }
          ],
          "scattergl": [
           {
            "marker": {
             "colorbar": {
              "outlinewidth": 0,
              "ticks": ""
             }
            },
            "type": "scattergl"
           }
          ],
          "scattermap": [
           {
            "marker": {
             "colorbar": {
              "outlinewidth": 0,
              "ticks": ""
             }
            },
            "type": "scattermap"
           }
          ],
          "scattermapbox": [
           {
            "marker": {
             "colorbar": {
              "outlinewidth": 0,
              "ticks": ""
             }
            },
            "type": "scattermapbox"
           }
          ],
          "scatterpolar": [
           {
            "marker": {
             "colorbar": {
              "outlinewidth": 0,
              "ticks": ""
             }
            },
            "type": "scatterpolar"
           }
          ],
          "scatterpolargl": [
           {
            "marker": {
             "colorbar": {
              "outlinewidth": 0,
              "ticks": ""
             }
            },
            "type": "scatterpolargl"
           }
          ],
          "scatterternary": [
           {
            "marker": {
             "colorbar": {
              "outlinewidth": 0,
              "ticks": ""
             }
            },
            "type": "scatterternary"
           }
          ],
          "surface": [
           {
            "colorbar": {
             "outlinewidth": 0,
             "ticks": ""
            },
            "colorscale": [
             [
              0,
              "#0d0887"
             ],
             [
              0.1111111111111111,
              "#46039f"
             ],
             [
              0.2222222222222222,
              "#7201a8"
             ],
             [
              0.3333333333333333,
              "#9c179e"
             ],
             [
              0.4444444444444444,
              "#bd3786"
             ],
             [
              0.5555555555555556,
              "#d8576b"
             ],
             [
              0.6666666666666666,
              "#ed7953"
             ],
             [
              0.7777777777777778,
              "#fb9f3a"
             ],
             [
              0.8888888888888888,
              "#fdca26"
             ],
             [
              1,
              "#f0f921"
             ]
            ],
            "type": "surface"
           }
          ],
          "table": [
           {
            "cells": {
             "fill": {
              "color": "#EBF0F8"
             },
             "line": {
              "color": "white"
             }
            },
            "header": {
             "fill": {
              "color": "#C8D4E3"
             },
             "line": {
              "color": "white"
             }
            },
            "type": "table"
           }
          ]
         },
         "layout": {
          "annotationdefaults": {
           "arrowcolor": "#2a3f5f",
           "arrowhead": 0,
           "arrowwidth": 1
          },
          "autotypenumbers": "strict",
          "coloraxis": {
           "colorbar": {
            "outlinewidth": 0,
            "ticks": ""
           }
          },
          "colorscale": {
           "diverging": [
            [
             0,
             "#8e0152"
            ],
            [
             0.1,
             "#c51b7d"
            ],
            [
             0.2,
             "#de77ae"
            ],
            [
             0.3,
             "#f1b6da"
            ],
            [
             0.4,
             "#fde0ef"
            ],
            [
             0.5,
             "#f7f7f7"
            ],
            [
             0.6,
             "#e6f5d0"
            ],
            [
             0.7,
             "#b8e186"
            ],
            [
             0.8,
             "#7fbc41"
            ],
            [
             0.9,
             "#4d9221"
            ],
            [
             1,
             "#276419"
            ]
           ],
           "sequential": [
            [
             0,
             "#0d0887"
            ],
            [
             0.1111111111111111,
             "#46039f"
            ],
            [
             0.2222222222222222,
             "#7201a8"
            ],
            [
             0.3333333333333333,
             "#9c179e"
            ],
            [
             0.4444444444444444,
             "#bd3786"
            ],
            [
             0.5555555555555556,
             "#d8576b"
            ],
            [
             0.6666666666666666,
             "#ed7953"
            ],
            [
             0.7777777777777778,
             "#fb9f3a"
            ],
            [
             0.8888888888888888,
             "#fdca26"
            ],
            [
             1,
             "#f0f921"
            ]
           ],
           "sequentialminus": [
            [
             0,
             "#0d0887"
            ],
            [
             0.1111111111111111,
             "#46039f"
            ],
            [
             0.2222222222222222,
             "#7201a8"
            ],
            [
             0.3333333333333333,
             "#9c179e"
            ],
            [
             0.4444444444444444,
             "#bd3786"
            ],
            [
             0.5555555555555556,
             "#d8576b"
            ],
            [
             0.6666666666666666,
             "#ed7953"
            ],
            [
             0.7777777777777778,
             "#fb9f3a"
            ],
            [
             0.8888888888888888,
             "#fdca26"
            ],
            [
             1,
             "#f0f921"
            ]
           ]
          },
          "colorway": [
           "#636efa",
           "#EF553B",
           "#00cc96",
           "#ab63fa",
           "#FFA15A",
           "#19d3f3",
           "#FF6692",
           "#B6E880",
           "#FF97FF",
           "#FECB52"
          ],
          "font": {
           "color": "#2a3f5f"
          },
          "geo": {
           "bgcolor": "white",
           "lakecolor": "white",
           "landcolor": "#E5ECF6",
           "showlakes": true,
           "showland": true,
           "subunitcolor": "white"
          },
          "hoverlabel": {
           "align": "left"
          },
          "hovermode": "closest",
          "mapbox": {
           "style": "light"
          },
          "paper_bgcolor": "white",
          "plot_bgcolor": "#E5ECF6",
          "polar": {
           "angularaxis": {
            "gridcolor": "white",
            "linecolor": "white",
            "ticks": ""
           },
           "bgcolor": "#E5ECF6",
           "radialaxis": {
            "gridcolor": "white",
            "linecolor": "white",
            "ticks": ""
           }
          },
          "scene": {
           "xaxis": {
            "backgroundcolor": "#E5ECF6",
            "gridcolor": "white",
            "gridwidth": 2,
            "linecolor": "white",
            "showbackground": true,
            "ticks": "",
            "zerolinecolor": "white"
           },
           "yaxis": {
            "backgroundcolor": "#E5ECF6",
            "gridcolor": "white",
            "gridwidth": 2,
            "linecolor": "white",
            "showbackground": true,
            "ticks": "",
            "zerolinecolor": "white"
           },
           "zaxis": {
            "backgroundcolor": "#E5ECF6",
            "gridcolor": "white",
            "gridwidth": 2,
            "linecolor": "white",
            "showbackground": true,
            "ticks": "",
            "zerolinecolor": "white"
           }
          },
          "shapedefaults": {
           "line": {
            "color": "#2a3f5f"
           }
          },
          "ternary": {
           "aaxis": {
            "gridcolor": "white",
            "linecolor": "white",
            "ticks": ""
           },
           "baxis": {
            "gridcolor": "white",
            "linecolor": "white",
            "ticks": ""
           },
           "bgcolor": "#E5ECF6",
           "caxis": {
            "gridcolor": "white",
            "linecolor": "white",
            "ticks": ""
           }
          },
          "title": {
           "x": 0.05
          },
          "xaxis": {
           "automargin": true,
           "gridcolor": "white",
           "linecolor": "white",
           "ticks": "",
           "title": {
            "standoff": 15
           },
           "zerolinecolor": "white",
           "zerolinewidth": 2
          },
          "yaxis": {
           "automargin": true,
           "gridcolor": "white",
           "linecolor": "white",
           "ticks": "",
           "title": {
            "standoff": 15
           },
           "zerolinecolor": "white",
           "zerolinewidth": 2
          }
         }
        },
        "title": {
         "text": "Product Line Sales in 2004 (Percentage of Total)"
        },
        "width": 900
       }
      }
     },
     "metadata": {},
     "output_type": "display_data"
    }
   ],
   "source": [
    "import plotly.graph_objects as go\n",
    "from plotly.subplots import make_subplots\n",
    "\n",
    "# Provided Data\n",
    "data = pd.DataFrame({\n",
    "    'PRODUCTLINE': ['Classic Cars', 'Classic Cars', 'Classic Cars', 'Motorcycles', 'Motorcycles', 'Motorcycles',\n",
    "                    'Planes', 'Planes', 'Planes', 'Ships', 'Ships', 'Ships', 'Trains', 'Trains', 'Trains',\n",
    "                    'Trucks and Buses', 'Trucks and Buses', 'Trucks and Buses', 'Vintage Cars', 'Vintage Cars', 'Vintage Cars'],\n",
    "    'ORDER_YEAR': [2003, 2004, 2005, 2003, 2004, 2005, 2003, 2004, 2005, 2003, 2004, 2005, 2003, 2004, 2005,\n",
    "                   2003, 2004, 2005, 2003, 2004, 2005],\n",
    "    'TOTAL_SALES': [1484785.29, 1762257.09, 672573.28, 370895.58, 560545.23, 234947.53, 272257.60, 502671.80,\n",
    "                    200074.17, 244821.09, 341437.97, 128178.07, 72802.29, 116523.85, 36917.33, 420429.93,\n",
    "                    529302.89, 178057.02, 650987.76, 911423.77, 340739.31]\n",
    "})\n",
    "\n",
    "# Filter for 2004 data\n",
    "data_2004 = data[data['ORDER_YEAR'] == 2004].copy() # Use .copy() to avoid SettingWithCopyWarning\n",
    "\n",
    "# Calculate total sales in 2004\n",
    "total_sales_2004 = data_2004['TOTAL_SALES'].sum()\n",
    "\n",
    "# Get unique product lines for 2004\n",
    "product_lines_2004 = data_2004['PRODUCTLINE'].unique()\n",
    "num_product_lines = len(product_lines_2004)\n",
    "\n",
    "# Determine the grid layout (adjust rows and cols as needed)\n",
    "rows = (num_product_lines + 2) // 3  # Try to fit in 3 columns\n",
    "cols = min(num_product_lines, 3)\n",
    "\n",
    "# Create subplots\n",
    "fig = make_subplots(rows=rows, cols=cols, specs=[[{'type':'indicator'}]*cols]*rows,\n",
    "                    subplot_titles=[f\"{pl} Sales (2004) %\" for pl in product_lines_2004])\n",
    "\n",
    "# Add gauge charts for each product line\n",
    "for i, product_line in enumerate(product_lines_2004):\n",
    "    product_line_sales = data_2004[data_2004['PRODUCTLINE'] == product_line]['TOTAL_SALES'].values[0]\n",
    "    percentage = (product_line_sales / total_sales_2004) * 100\n",
    "    row = (i // cols) + 1\n",
    "    col = (i % cols) + 1\n",
    "\n",
    "    fig.add_trace(go.Indicator(\n",
    "        mode=\"gauge+number\",\n",
    "        value=percentage,\n",
    "        domain={'x': [0, 1], 'y': [0, 1]},\n",
    "        gauge={\n",
    "            'axis': {'range': [None, 100]},\n",
    "            'bar': {'color': \"royalblue\"},\n",
    "            'steps': [\n",
    "                {'range': [0, 33], 'color': \"red\"},\n",
    "                {'range': [33, 66], 'color': \"yellow\"},\n",
    "                {'range': [66, 100], 'color': \"green\"}],\n",
    "            'threshold': {\n",
    "                'line': {'color': \"black\", 'width': 4},\n",
    "                'thickness': 0.75,\n",
    "                'value': 80  # Example threshold - adjust as needed\n",
    "            }\n",
    "        },\n",
    "        name=product_line  # For legend/hover information\n",
    "    ), row=row, col=col)\n",
    "\n",
    "fig.update_layout(\n",
    "    title_text=\"Product Line Sales in 2004 (Percentage of Total)\",\n",
    "    showlegend=False,\n",
    "    height=250 * rows,  # Adjust height based on the number of rows\n",
    "    width=300 * cols    # Adjust width based on the number of columns\n",
    ")\n",
    "\n",
    "fig.show()"
   ]
  },
  {
   "cell_type": "code",
   "execution_count": null,
   "id": "383def4d",
   "metadata": {},
   "outputs": [
    {
     "data": {
      "application/vnd.plotly.v1+json": {
       "config": {
        "plotlyServerURL": "https://plot.ly"
       },
       "data": [
        {
         "delta": {
          "reference": 509110
         },
         "domain": {
          "x": [
           0,
           1
          ],
          "y": [
           0,
           0.3333333333333333
          ]
         },
         "gauge": {
          "axis": {
           "range": [
            160000,
            610932
           ]
          },
          "shape": "bullet",
          "steps": [
           {
            "color": "lightgray",
            "range": [
             160000,
             500000
            ]
           },
           {
            "color": "lightgreen",
            "range": [
             500000,
             610932
            ]
           }
          ],
          "threshold": {
           "line": {
            "color": "black",
            "width": 2
           },
           "thickness": 0.75,
           "value": 500000
          }
         },
         "mode": "number+delta+gauge",
         "title": {
          "text": "Trucks and Buses"
         },
         "type": "indicator",
         "value": 178057
        },
        {
         "delta": {
          "reference": 502762
         },
         "domain": {
          "x": [
           0,
           1
          ],
          "y": [
           0.3333333333333333,
           0.6666666666666666
          ]
         },
         "gauge": {
          "axis": {
           "range": [
            160000,
            610932
           ]
          },
          "shape": "bullet",
          "steps": [
           {
            "color": "lightgray",
            "range": [
             160000,
             350000
            ]
           },
           {
            "color": "lightgreen",
            "range": [
             350000,
             610932
            ]
           }
          ],
          "threshold": {
           "line": {
            "color": "black",
            "width": 2
           },
           "thickness": 0.75,
           "value": 350000
          }
         },
         "mode": "number+delta+gauge",
         "title": {
          "text": "Planes"
         },
         "type": "indicator",
         "value": 200074
        },
        {
         "delta": {
          "reference": 334765
         },
         "domain": {
          "x": [
           0,
           1
          ],
          "y": [
           0.6666666666666666,
           1
          ]
         },
         "gauge": {
          "axis": {
           "range": [
            160000,
            610932
           ]
          },
          "shape": "bullet",
          "steps": [
           {
            "color": "lightgray",
            "range": [
             160000,
             200000
            ]
           },
           {
            "color": "lightgreen",
            "range": [
             200000,
             610932
            ]
           }
          ],
          "threshold": {
           "line": {
            "color": "black",
            "width": 2
           },
           "thickness": 0.75,
           "value": 200000
          }
         },
         "mode": "number+delta+gauge",
         "title": {
          "text": "Ships"
         },
         "type": "indicator",
         "value": 128278
        }
       ],
       "layout": {
        "height": 300,
        "template": {
         "data": {
          "bar": [
           {
            "error_x": {
             "color": "#2a3f5f"
            },
            "error_y": {
             "color": "#2a3f5f"
            },
            "marker": {
             "line": {
              "color": "#E5ECF6",
              "width": 0.5
             },
             "pattern": {
              "fillmode": "overlay",
              "size": 10,
              "solidity": 0.2
             }
            },
            "type": "bar"
           }
          ],
          "barpolar": [
           {
            "marker": {
             "line": {
              "color": "#E5ECF6",
              "width": 0.5
             },
             "pattern": {
              "fillmode": "overlay",
              "size": 10,
              "solidity": 0.2
             }
            },
            "type": "barpolar"
           }
          ],
          "carpet": [
           {
            "aaxis": {
             "endlinecolor": "#2a3f5f",
             "gridcolor": "white",
             "linecolor": "white",
             "minorgridcolor": "white",
             "startlinecolor": "#2a3f5f"
            },
            "baxis": {
             "endlinecolor": "#2a3f5f",
             "gridcolor": "white",
             "linecolor": "white",
             "minorgridcolor": "white",
             "startlinecolor": "#2a3f5f"
            },
            "type": "carpet"
           }
          ],
          "choropleth": [
           {
            "colorbar": {
             "outlinewidth": 0,
             "ticks": ""
            },
            "type": "choropleth"
           }
          ],
          "contour": [
           {
            "colorbar": {
             "outlinewidth": 0,
             "ticks": ""
            },
            "colorscale": [
             [
              0,
              "#0d0887"
             ],
             [
              0.1111111111111111,
              "#46039f"
             ],
             [
              0.2222222222222222,
              "#7201a8"
             ],
             [
              0.3333333333333333,
              "#9c179e"
             ],
             [
              0.4444444444444444,
              "#bd3786"
             ],
             [
              0.5555555555555556,
              "#d8576b"
             ],
             [
              0.6666666666666666,
              "#ed7953"
             ],
             [
              0.7777777777777778,
              "#fb9f3a"
             ],
             [
              0.8888888888888888,
              "#fdca26"
             ],
             [
              1,
              "#f0f921"
             ]
            ],
            "type": "contour"
           }
          ],
          "contourcarpet": [
           {
            "colorbar": {
             "outlinewidth": 0,
             "ticks": ""
            },
            "type": "contourcarpet"
           }
          ],
          "heatmap": [
           {
            "colorbar": {
             "outlinewidth": 0,
             "ticks": ""
            },
            "colorscale": [
             [
              0,
              "#0d0887"
             ],
             [
              0.1111111111111111,
              "#46039f"
             ],
             [
              0.2222222222222222,
              "#7201a8"
             ],
             [
              0.3333333333333333,
              "#9c179e"
             ],
             [
              0.4444444444444444,
              "#bd3786"
             ],
             [
              0.5555555555555556,
              "#d8576b"
             ],
             [
              0.6666666666666666,
              "#ed7953"
             ],
             [
              0.7777777777777778,
              "#fb9f3a"
             ],
             [
              0.8888888888888888,
              "#fdca26"
             ],
             [
              1,
              "#f0f921"
             ]
            ],
            "type": "heatmap"
           }
          ],
          "histogram": [
           {
            "marker": {
             "pattern": {
              "fillmode": "overlay",
              "size": 10,
              "solidity": 0.2
             }
            },
            "type": "histogram"
           }
          ],
          "histogram2d": [
           {
            "colorbar": {
             "outlinewidth": 0,
             "ticks": ""
            },
            "colorscale": [
             [
              0,
              "#0d0887"
             ],
             [
              0.1111111111111111,
              "#46039f"
             ],
             [
              0.2222222222222222,
              "#7201a8"
             ],
             [
              0.3333333333333333,
              "#9c179e"
             ],
             [
              0.4444444444444444,
              "#bd3786"
             ],
             [
              0.5555555555555556,
              "#d8576b"
             ],
             [
              0.6666666666666666,
              "#ed7953"
             ],
             [
              0.7777777777777778,
              "#fb9f3a"
             ],
             [
              0.8888888888888888,
              "#fdca26"
             ],
             [
              1,
              "#f0f921"
             ]
            ],
            "type": "histogram2d"
           }
          ],
          "histogram2dcontour": [
           {
            "colorbar": {
             "outlinewidth": 0,
             "ticks": ""
            },
            "colorscale": [
             [
              0,
              "#0d0887"
             ],
             [
              0.1111111111111111,
              "#46039f"
             ],
             [
              0.2222222222222222,
              "#7201a8"
             ],
             [
              0.3333333333333333,
              "#9c179e"
             ],
             [
              0.4444444444444444,
              "#bd3786"
             ],
             [
              0.5555555555555556,
              "#d8576b"
             ],
             [
              0.6666666666666666,
              "#ed7953"
             ],
             [
              0.7777777777777778,
              "#fb9f3a"
             ],
             [
              0.8888888888888888,
              "#fdca26"
             ],
             [
              1,
              "#f0f921"
             ]
            ],
            "type": "histogram2dcontour"
           }
          ],
          "mesh3d": [
           {
            "colorbar": {
             "outlinewidth": 0,
             "ticks": ""
            },
            "type": "mesh3d"
           }
          ],
          "parcoords": [
           {
            "line": {
             "colorbar": {
              "outlinewidth": 0,
              "ticks": ""
             }
            },
            "type": "parcoords"
           }
          ],
          "pie": [
           {
            "automargin": true,
            "type": "pie"
           }
          ],
          "scatter": [
           {
            "fillpattern": {
             "fillmode": "overlay",
             "size": 10,
             "solidity": 0.2
            },
            "type": "scatter"
           }
          ],
          "scatter3d": [
           {
            "line": {
             "colorbar": {
              "outlinewidth": 0,
              "ticks": ""
             }
            },
            "marker": {
             "colorbar": {
              "outlinewidth": 0,
              "ticks": ""
             }
            },
            "type": "scatter3d"
           }
          ],
          "scattercarpet": [
           {
            "marker": {
             "colorbar": {
              "outlinewidth": 0,
              "ticks": ""
             }
            },
            "type": "scattercarpet"
           }
          ],
          "scattergeo": [
           {
            "marker": {
             "colorbar": {
              "outlinewidth": 0,
              "ticks": ""
             }
            },
            "type": "scattergeo"
           }
          ],
          "scattergl": [
           {
            "marker": {
             "colorbar": {
              "outlinewidth": 0,
              "ticks": ""
             }
            },
            "type": "scattergl"
           }
          ],
          "scattermap": [
           {
            "marker": {
             "colorbar": {
              "outlinewidth": 0,
              "ticks": ""
             }
            },
            "type": "scattermap"
           }
          ],
          "scattermapbox": [
           {
            "marker": {
             "colorbar": {
              "outlinewidth": 0,
              "ticks": ""
             }
            },
            "type": "scattermapbox"
           }
          ],
          "scatterpolar": [
           {
            "marker": {
             "colorbar": {
              "outlinewidth": 0,
              "ticks": ""
             }
            },
            "type": "scatterpolar"
           }
          ],
          "scatterpolargl": [
           {
            "marker": {
             "colorbar": {
              "outlinewidth": 0,
              "ticks": ""
             }
            },
            "type": "scatterpolargl"
           }
          ],
          "scatterternary": [
           {
            "marker": {
             "colorbar": {
              "outlinewidth": 0,
              "ticks": ""
             }
            },
            "type": "scatterternary"
           }
          ],
          "surface": [
           {
            "colorbar": {
             "outlinewidth": 0,
             "ticks": ""
            },
            "colorscale": [
             [
              0,
              "#0d0887"
             ],
             [
              0.1111111111111111,
              "#46039f"
             ],
             [
              0.2222222222222222,
              "#7201a8"
             ],
             [
              0.3333333333333333,
              "#9c179e"
             ],
             [
              0.4444444444444444,
              "#bd3786"
             ],
             [
              0.5555555555555556,
              "#d8576b"
             ],
             [
              0.6666666666666666,
              "#ed7953"
             ],
             [
              0.7777777777777778,
              "#fb9f3a"
             ],
             [
              0.8888888888888888,
              "#fdca26"
             ],
             [
              1,
              "#f0f921"
             ]
            ],
            "type": "surface"
           }
          ],
          "table": [
           {
            "cells": {
             "fill": {
              "color": "#EBF0F8"
             },
             "line": {
              "color": "white"
             }
            },
            "header": {
             "fill": {
              "color": "#C8D4E3"
             },
             "line": {
              "color": "white"
             }
            },
            "type": "table"
           }
          ]
         },
         "layout": {
          "annotationdefaults": {
           "arrowcolor": "#2a3f5f",
           "arrowhead": 0,
           "arrowwidth": 1
          },
          "autotypenumbers": "strict",
          "coloraxis": {
           "colorbar": {
            "outlinewidth": 0,
            "ticks": ""
           }
          },
          "colorscale": {
           "diverging": [
            [
             0,
             "#8e0152"
            ],
            [
             0.1,
             "#c51b7d"
            ],
            [
             0.2,
             "#de77ae"
            ],
            [
             0.3,
             "#f1b6da"
            ],
            [
             0.4,
             "#fde0ef"
            ],
            [
             0.5,
             "#f7f7f7"
            ],
            [
             0.6,
             "#e6f5d0"
            ],
            [
             0.7,
             "#b8e186"
            ],
            [
             0.8,
             "#7fbc41"
            ],
            [
             0.9,
             "#4d9221"
            ],
            [
             1,
             "#276419"
            ]
           ],
           "sequential": [
            [
             0,
             "#0d0887"
            ],
            [
             0.1111111111111111,
             "#46039f"
            ],
            [
             0.2222222222222222,
             "#7201a8"
            ],
            [
             0.3333333333333333,
             "#9c179e"
            ],
            [
             0.4444444444444444,
             "#bd3786"
            ],
            [
             0.5555555555555556,
             "#d8576b"
            ],
            [
             0.6666666666666666,
             "#ed7953"
            ],
            [
             0.7777777777777778,
             "#fb9f3a"
            ],
            [
             0.8888888888888888,
             "#fdca26"
            ],
            [
             1,
             "#f0f921"
            ]
           ],
           "sequentialminus": [
            [
             0,
             "#0d0887"
            ],
            [
             0.1111111111111111,
             "#46039f"
            ],
            [
             0.2222222222222222,
             "#7201a8"
            ],
            [
             0.3333333333333333,
             "#9c179e"
            ],
            [
             0.4444444444444444,
             "#bd3786"
            ],
            [
             0.5555555555555556,
             "#d8576b"
            ],
            [
             0.6666666666666666,
             "#ed7953"
            ],
            [
             0.7777777777777778,
             "#fb9f3a"
            ],
            [
             0.8888888888888888,
             "#fdca26"
            ],
            [
             1,
             "#f0f921"
            ]
           ]
          },
          "colorway": [
           "#636efa",
           "#EF553B",
           "#00cc96",
           "#ab63fa",
           "#FFA15A",
           "#19d3f3",
           "#FF6692",
           "#B6E880",
           "#FF97FF",
           "#FECB52"
          ],
          "font": {
           "color": "#2a3f5f"
          },
          "geo": {
           "bgcolor": "white",
           "lakecolor": "white",
           "landcolor": "#E5ECF6",
           "showlakes": true,
           "showland": true,
           "subunitcolor": "white"
          },
          "hoverlabel": {
           "align": "left"
          },
          "hovermode": "closest",
          "mapbox": {
           "style": "light"
          },
          "paper_bgcolor": "white",
          "plot_bgcolor": "#E5ECF6",
          "polar": {
           "angularaxis": {
            "gridcolor": "white",
            "linecolor": "white",
            "ticks": ""
           },
           "bgcolor": "#E5ECF6",
           "radialaxis": {
            "gridcolor": "white",
            "linecolor": "white",
            "ticks": ""
           }
          },
          "scene": {
           "xaxis": {
            "backgroundcolor": "#E5ECF6",
            "gridcolor": "white",
            "gridwidth": 2,
            "linecolor": "white",
            "showbackground": true,
            "ticks": "",
            "zerolinecolor": "white"
           },
           "yaxis": {
            "backgroundcolor": "#E5ECF6",
            "gridcolor": "white",
            "gridwidth": 2,
            "linecolor": "white",
            "showbackground": true,
            "ticks": "",
            "zerolinecolor": "white"
           },
           "zaxis": {
            "backgroundcolor": "#E5ECF6",
            "gridcolor": "white",
            "gridwidth": 2,
            "linecolor": "white",
            "showbackground": true,
            "ticks": "",
            "zerolinecolor": "white"
           }
          },
          "shapedefaults": {
           "line": {
            "color": "#2a3f5f"
           }
          },
          "ternary": {
           "aaxis": {
            "gridcolor": "white",
            "linecolor": "white",
            "ticks": ""
           },
           "baxis": {
            "gridcolor": "white",
            "linecolor": "white",
            "ticks": ""
           },
           "bgcolor": "#E5ECF6",
           "caxis": {
            "gridcolor": "white",
            "linecolor": "white",
            "ticks": ""
           }
          },
          "title": {
           "x": 0.05
          },
          "xaxis": {
           "automargin": true,
           "gridcolor": "white",
           "linecolor": "white",
           "ticks": "",
           "title": {
            "standoff": 15
           },
           "zerolinecolor": "white",
           "zerolinewidth": 2
          },
          "yaxis": {
           "automargin": true,
           "gridcolor": "white",
           "linecolor": "white",
           "ticks": "",
           "title": {
            "standoff": 15
           },
           "zerolinecolor": "white",
           "zerolinewidth": 2
          }
         }
        },
        "title": {
         "text": "Sales Performance vs. Target and Previous Year"
        }
       }
      }
     },
     "metadata": {},
     "output_type": "display_data"
    }
   ],
   "source": [
    "import plotly.graph_objects as go\n",
    "\n",
    "# Sample Data 1 (Sales vs Target and Previous Year)\n",
    "product_lines_fever_1 = ['Trucks and Buses', 'Planes', 'Ships']\n",
    "current_year_sales_1 = [178057, 200074, 128278]\n",
    "target_sales_1 = [500000, 350000, 200000]\n",
    "previous_year_sales_1 = [509110, 502762, 334765]\n",
    "\n",
    "fig_bullet_1 = go.Figure()\n",
    "\n",
    "for i in range(len(product_lines_fever_1)):\n",
    "    fig_bullet_1.add_trace(go.Indicator(\n",
    "        mode=\"number+delta+gauge\",\n",
    "        value=current_year_sales_1[i],\n",
    "        delta={\"reference\": previous_year_sales_1[i]},\n",
    "        domain={'x': [0, 1], 'y': [i/len(product_lines_fever_1), (i+1)/len(product_lines_fever_1)]},\n",
    "        title={'text': product_lines_fever_1[i]},\n",
    "        gauge={\n",
    "            'shape': \"bullet\",\n",
    "            'axis': {'range': [min(previous_year_sales_1 + target_sales_1) * 0.8, max(previous_year_sales_1 + target_sales_1) * 1.2]},\n",
    "            'steps': [\n",
    "                {'range': [min(previous_year_sales_1 + target_sales_1) * 0.8, target_sales_1[i]], 'color': \"lightgray\"},\n",
    "                {'range': [target_sales_1[i], max(previous_year_sales_1 + target_sales_1) * 1.2], 'color': \"lightgreen\"}],\n",
    "            'threshold': {\n",
    "                'line': {'color': \"black\", 'width': 2},\n",
    "                'thickness': 0.75,\n",
    "                'value': target_sales_1[i]}\n",
    "        }\n",
    "    ))\n",
    "\n",
    "fig_bullet_1.update_layout(height=100 * len(product_lines_fever_1), title_text=\"Sales Performance vs. Target and Previous Year\")\n",
    "fig_bullet_1.show()\n"
   ]
  }
 ],
 "metadata": {
  "kernelspec": {
   "display_name": "Python 3",
   "language": "python",
   "name": "python3"
  },
  "language_info": {
   "codemirror_mode": {
    "name": "ipython",
    "version": 3
   },
   "file_extension": ".py",
   "mimetype": "text/x-python",
   "name": "python",
   "nbconvert_exporter": "python",
   "pygments_lexer": "ipython3",
   "version": "3.12.2"
  }
 },
 "nbformat": 4,
 "nbformat_minor": 5
}
